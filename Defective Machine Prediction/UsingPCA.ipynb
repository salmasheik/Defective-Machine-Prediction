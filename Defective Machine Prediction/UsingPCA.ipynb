{
 "cells": [
  {
   "cell_type": "code",
   "execution_count": 1,
   "metadata": {},
   "outputs": [],
   "source": [
    "import pandas as pd\n",
    "import numpy as np\n",
    "\n",
    "#for plotting\n",
    "import seaborn as sns \n",
    "import matplotlib.pyplot as plt"
   ]
  },
  {
   "cell_type": "code",
   "execution_count": 2,
   "metadata": {},
   "outputs": [],
   "source": [
    "from sklearn.decomposition import PCA #Dimensionality reduction\n",
    "from sklearn import preprocessing # for standardizing numerical variables"
   ]
  },
  {
   "cell_type": "code",
   "execution_count": 3,
   "metadata": {},
   "outputs": [],
   "source": [
    "#importing Train & Test data\n",
    "Train_data = pd.read_csv(\"TrainingSet.csv\") \n",
    "Test_data = pd.read_csv(\"TestingSet.csv\")"
   ]
  },
  {
   "cell_type": "code",
   "execution_count": 4,
   "metadata": {},
   "outputs": [
    {
     "name": "stdout",
     "output_type": "stream",
     "text": [
      "Train dim  (3722, 220)\n",
      "Test dim  (400, 220)\n"
     ]
    }
   ],
   "source": [
    "#Checking dimensions of Train & Test\n",
    "print(\"Train dim \" , Train_data.shape)\n",
    "print(\"Test dim \" , Test_data.shape)"
   ]
  },
  {
   "cell_type": "code",
   "execution_count": 5,
   "metadata": {},
   "outputs": [
    {
     "name": "stdout",
     "output_type": "stream",
     "text": [
      "Train datatypes  V1               float64\n",
      "V2               float64\n",
      "V3               float64\n",
      "V4               float64\n",
      "V5               float64\n",
      "V6               float64\n",
      "V7               float64\n",
      "V8               float64\n",
      "V9               float64\n",
      "V10              float64\n",
      "V11              float64\n",
      "V12              float64\n",
      "V13              float64\n",
      "V14              float64\n",
      "V15              float64\n",
      "V16              float64\n",
      "V17              float64\n",
      "V18              float64\n",
      "V19              float64\n",
      "V20              float64\n",
      "V21              float64\n",
      "V22              float64\n",
      "V23              float64\n",
      "V24              float64\n",
      "V25              float64\n",
      "V26              float64\n",
      "V27              float64\n",
      "V28              float64\n",
      "V29              float64\n",
      "V30              float64\n",
      "                  ...   \n",
      "V191             float64\n",
      "V192             float64\n",
      "V193             float64\n",
      "V194             float64\n",
      "V195             float64\n",
      "V196             float64\n",
      "V197             float64\n",
      "V198             float64\n",
      "V199             float64\n",
      "V200             float64\n",
      "V201             float64\n",
      "V202             float64\n",
      "V203             float64\n",
      "V204             float64\n",
      "V205             float64\n",
      "V206             float64\n",
      "V207             float64\n",
      "V208             float64\n",
      "V209             float64\n",
      "V210             float64\n",
      "V211             float64\n",
      "V212             float64\n",
      "V213             float64\n",
      "V214             float64\n",
      "V215             float64\n",
      "V216             float64\n",
      "V217             float64\n",
      "V218             float64\n",
      "V219             float64\n",
      "Machine_State     object\n",
      "Length: 220, dtype: object\n",
      "Test datatypes  Sl No.      int64\n",
      "V1        float64\n",
      "V2        float64\n",
      "V3        float64\n",
      "V4        float64\n",
      "V5        float64\n",
      "V6        float64\n",
      "V7        float64\n",
      "V8        float64\n",
      "V9        float64\n",
      "V10       float64\n",
      "V11       float64\n",
      "V12       float64\n",
      "V13       float64\n",
      "V14       float64\n",
      "V15       float64\n",
      "V16       float64\n",
      "V17       float64\n",
      "V18       float64\n",
      "V19       float64\n",
      "V20       float64\n",
      "V21       float64\n",
      "V22       float64\n",
      "V23       float64\n",
      "V24       float64\n",
      "V25       float64\n",
      "V26       float64\n",
      "V27       float64\n",
      "V28       float64\n",
      "V29       float64\n",
      "           ...   \n",
      "V190      float64\n",
      "V191      float64\n",
      "V192      float64\n",
      "V193      float64\n",
      "V194      float64\n",
      "V195      float64\n",
      "V196      float64\n",
      "V197      float64\n",
      "V198      float64\n",
      "V199        int64\n",
      "V200      float64\n",
      "V201      float64\n",
      "V202      float64\n",
      "V203      float64\n",
      "V204      float64\n",
      "V205      float64\n",
      "V206      float64\n",
      "V207      float64\n",
      "V208      float64\n",
      "V209      float64\n",
      "V210      float64\n",
      "V211      float64\n",
      "V212      float64\n",
      "V213      float64\n",
      "V214      float64\n",
      "V215      float64\n",
      "V216      float64\n",
      "V217      float64\n",
      "V218      float64\n",
      "V219      float64\n",
      "Length: 220, dtype: object\n"
     ]
    }
   ],
   "source": [
    "print(\"Train datatypes \" , Train_data.dtypes)\n",
    "print(\"Test datatypes \" , Test_data.dtypes)"
   ]
  },
  {
   "cell_type": "code",
   "execution_count": 6,
   "metadata": {},
   "outputs": [],
   "source": [
    "#Converting Target Variable datatype to factor\n",
    "Train_data.Machine_State = Train_data.Machine_State.astype('category')"
   ]
  },
  {
   "cell_type": "code",
   "execution_count": 7,
   "metadata": {},
   "outputs": [
    {
     "name": "stdout",
     "output_type": "stream",
     "text": [
      "Good    3240\n",
      "Bad      463\n",
      "Name: Machine_State, dtype: int64\n"
     ]
    }
   ],
   "source": [
    "#Checking whether Response variable data distribution is balanced or not\n",
    "print(pd.value_counts(Train_data['Machine_State']))"
   ]
  },
  {
   "cell_type": "code",
   "execution_count": 8,
   "metadata": {},
   "outputs": [
    {
     "data": {
      "image/png": "[encoded data removed]",
      "text/plain": [
       "<matplotlib.figure.Figure at 0x22eb48cca58>"
      ]
     },
     "metadata": {},
     "output_type": "display_data"
    },
    {
     "data": {
      "text/plain": [
       "<matplotlib.figure.Figure at 0x22eb8a39b70>"
      ]
     },
     "metadata": {},
     "output_type": "display_data"
    }
   ],
   "source": [
    "#Plotting Trget variable data distribution for visualization\n",
    "sns.countplot(x='Machine_State', data =Train_data,palette= 'hls')\n",
    "plt.show()\n",
    "plt.savefig('count_plot')"
   ]
  },
  {
   "cell_type": "code",
   "execution_count": 9,
   "metadata": {},
   "outputs": [
    {
     "data": {
      "text/plain": [
       "V1               56\n",
       "V8               56\n",
       "V15              56\n",
       "V22              56\n",
       "V29              56\n",
       "V36              56\n",
       "V43              56\n",
       "V50              56\n",
       "V57              56\n",
       "V64              56\n",
       "V71              56\n",
       "V78              56\n",
       "V85              56\n",
       "V92              56\n",
       "V99              56\n",
       "V106             56\n",
       "V113             56\n",
       "V120             56\n",
       "V127             56\n",
       "V134             56\n",
       "V141             56\n",
       "V148             56\n",
       "V155             56\n",
       "V162             56\n",
       "V169             56\n",
       "V176             56\n",
       "V183             56\n",
       "V190             56\n",
       "V197             56\n",
       "V205             56\n",
       "V213             56\n",
       "Machine_State    19\n",
       "dtype: int64"
      ]
     },
     "execution_count": 9,
     "metadata": {},
     "output_type": "execute_result"
    }
   ],
   "source": [
    "# Sum of Null values per column on training data set\n",
    "null_columns=Train_data.columns[Train_data.isnull().any()]\n",
    "Train_data[null_columns].isnull().sum()"
   ]
  },
  {
   "cell_type": "code",
   "execution_count": 10,
   "metadata": {},
   "outputs": [
    {
     "data": {
      "text/plain": [
       "V1      5\n",
       "V8      5\n",
       "V15     5\n",
       "V22     5\n",
       "V29     5\n",
       "V36     5\n",
       "V43     5\n",
       "V50     5\n",
       "V57     5\n",
       "V64     5\n",
       "V71     5\n",
       "V78     5\n",
       "V85     5\n",
       "V92     5\n",
       "V99     5\n",
       "V106    5\n",
       "V113    5\n",
       "V120    5\n",
       "V127    5\n",
       "V134    5\n",
       "V141    5\n",
       "V148    5\n",
       "V155    5\n",
       "V162    5\n",
       "V169    5\n",
       "V176    5\n",
       "V183    5\n",
       "V190    5\n",
       "V197    5\n",
       "V205    5\n",
       "V213    5\n",
       "dtype: int64"
      ]
     },
     "execution_count": 10,
     "metadata": {},
     "output_type": "execute_result"
    }
   ],
   "source": [
    "## Sum of Null values per column on test data set\n",
    "null_columns=Test_data.columns[Test_data.isnull().any()]\n",
    "Test_data[null_columns].isnull().sum()"
   ]
  },
  {
   "cell_type": "code",
   "execution_count": 11,
   "metadata": {},
   "outputs": [],
   "source": [
    "#imputing Na with it's column mean\n",
    "Train_imputedSet=  Train_data.fillna(Train_data.mean())\n",
    "Test_imputedSet=  Test_data.fillna(Test_data.mean())"
   ]
  },
  {
   "cell_type": "code",
   "execution_count": 12,
   "metadata": {},
   "outputs": [
    {
     "data": {
      "text/plain": [
       "Machine_State    19\n",
       "dtype: int64"
      ]
     },
     "execution_count": 12,
     "metadata": {},
     "output_type": "execute_result"
    }
   ],
   "source": [
    "## Verifying if any null value exists for Train data\n",
    "null_columns=Train_imputedSet.columns[Train_imputedSet.isnull().any()]\n",
    "Train_imputedSet[null_columns].isnull().sum()"
   ]
  },
  {
   "cell_type": "code",
   "execution_count": 13,
   "metadata": {},
   "outputs": [
    {
     "data": {
      "text/plain": [
       "Series([], dtype: float64)"
      ]
     },
     "execution_count": 13,
     "metadata": {},
     "output_type": "execute_result"
    }
   ],
   "source": [
    "## Verifying if any null value exists for Test data\n",
    "null_columns=Test_imputedSet.columns[Test_imputedSet.isnull().any()]\n",
    "Test_imputedSet[null_columns].isnull().sum()"
   ]
  },
  {
   "cell_type": "code",
   "execution_count": 14,
   "metadata": {},
   "outputs": [
    {
     "name": "stdout",
     "output_type": "stream",
     "text": [
      "(400, 220)\n",
      "Index(['Sl No.', 'V1', 'V2', 'V3', 'V4', 'V5', 'V6', 'V7', 'V8', 'V9',\n",
      "       ...\n",
      "       'V210', 'V211', 'V212', 'V213', 'V214', 'V215', 'V216', 'V217', 'V218',\n",
      "       'V219'],\n",
      "      dtype='object', length=220)\n"
     ]
    }
   ],
   "source": [
    "#Checking Test data dimension and column names\n",
    "print(Test_imputedSet.shape)\n",
    "print(Test_imputedSet.columns)"
   ]
  },
  {
   "cell_type": "code",
   "execution_count": 15,
   "metadata": {},
   "outputs": [
    {
     "name": "stdout",
     "output_type": "stream",
     "text": [
      "(400, 219)\n"
     ]
    }
   ],
   "source": [
    "#Remove the irrelevant column from Testdataset\n",
    "X_test = Test_imputedSet.loc[:,Test_imputedSet.columns != 'Sl No.']\n",
    "print(X_test.shape)\n"
   ]
  },
  {
   "cell_type": "code",
   "execution_count": 16,
   "metadata": {},
   "outputs": [
    {
     "data": {
      "text/plain": [
       "0    1\n",
       "1    2\n",
       "2    3\n",
       "3    4\n",
       "4    5\n",
       "Name: Sl No., dtype: int64"
      ]
     },
     "execution_count": 16,
     "metadata": {},
     "output_type": "execute_result"
    }
   ],
   "source": [
    "# To cocat with Submission file\n",
    "SerialNum = Test_imputedSet[\"Sl No.\"]\n",
    "SerialNum.head()"
   ]
  },
  {
   "cell_type": "code",
   "execution_count": 17,
   "metadata": {},
   "outputs": [],
   "source": [
    "#Replace null values with 'Bad' as it is important and less too\n",
    "#Train_imputedSet['Machine_State'].fillna('Bad', inplace=True)\n",
    "\n",
    "#Drop NA target variable\n",
    "Train_imputedSet.dropna(inplace = True)"
   ]
  },
  {
   "cell_type": "code",
   "execution_count": 18,
   "metadata": {},
   "outputs": [],
   "source": [
    "#Write the data to csv\n",
    "Train_imputedSet.to_csv(\"Imputed_DataSet.csv\", index=False)"
   ]
  },
  {
   "cell_type": "code",
   "execution_count": 19,
   "metadata": {},
   "outputs": [
    {
     "name": "stdout",
     "output_type": "stream",
     "text": [
      "(3703, 220)\n"
     ]
    }
   ],
   "source": [
    "print(Train_imputedSet.shape)"
   ]
  },
  {
   "cell_type": "code",
   "execution_count": 20,
   "metadata": {},
   "outputs": [
    {
     "name": "stdout",
     "output_type": "stream",
     "text": [
      "Index(['V1', 'V2', 'V3', 'V4', 'V5', 'V6', 'V7', 'V8', 'V9', 'V10',\n",
      "       ...\n",
      "       'V210', 'V211', 'V212', 'V213', 'V214', 'V215', 'V216', 'V217', 'V218',\n",
      "       'V219'],\n",
      "      dtype='object', length=219)\n",
      "(3703, 219)\n",
      "(3703, 1)\n"
     ]
    }
   ],
   "source": [
    "# Separating target variable from dataset\n",
    "X = Train_imputedSet.loc[:,Train_imputedSet.columns != 'Machine_State']\n",
    "Y = Train_imputedSet.loc[:,Train_imputedSet.columns == 'Machine_State']\n",
    "print(X.columns)  \n",
    "print(X.shape)  \n",
    "print(Y.shape)  "
   ]
  },
  {
   "cell_type": "code",
   "execution_count": 21,
   "metadata": {},
   "outputs": [
    {
     "name": "stderr",
     "output_type": "stream",
     "text": [
      "C:\\Users\\farha\\Anaconda3\\lib\\site-packages\\sklearn\\utils\\validation.py:578: DataConversionWarning: A column-vector y was passed when a 1d array was expected. Please change the shape of y to (n_samples, ), for example using ravel().\n",
      "  y = column_or_1d(y, warn=True)\n"
     ]
    },
    {
     "name": "stdout",
     "output_type": "stream",
     "text": [
      "(926, 219)\n"
     ]
    }
   ],
   "source": [
    "#Undersampling the data to balance\n",
    "from imblearn.under_sampling import RandomUnderSampler\n",
    "ros = RandomUnderSampler(random_state=42)\n",
    "X_resampled, y_resampled = ros.fit_sample(X,Y)\n",
    "print(X_resampled.shape)"
   ]
  },
  {
   "cell_type": "code",
   "execution_count": 22,
   "metadata": {},
   "outputs": [],
   "source": [
    "# Splitting the dataset into the Training set and Test set\n",
    "from sklearn.model_selection import train_test_split\n",
    "X_train, X_validation, y_train, y_validation = train_test_split(X_resampled, y_resampled, test_size=0.2, random_state=0)  "
   ]
  },
  {
   "cell_type": "code",
   "execution_count": 23,
   "metadata": {},
   "outputs": [
    {
     "name": "stdout",
     "output_type": "stream",
     "text": [
      "(400, 219)\n",
      "(740, 219)\n",
      "(186, 219)\n"
     ]
    }
   ],
   "source": [
    "#Checking dimensions\n",
    "print(X_test.shape)\n",
    "print(X_train.shape)\n",
    "print(X_validation.shape)"
   ]
  },
  {
   "cell_type": "code",
   "execution_count": 25,
   "metadata": {},
   "outputs": [],
   "source": [
    "#standardizing numerical variables\n",
    "from sklearn.preprocessing import StandardScaler\n",
    "\n",
    "sc = StandardScaler()  \n",
    "X_train = sc.fit_transform(X_train)  \n",
    "X_validation = sc.transform(X_validation) \n",
    "X_test = sc.transform(X_test) "
   ]
  },
  {
   "cell_type": "code",
   "execution_count": 26,
   "metadata": {},
   "outputs": [],
   "source": [
    "#Performing dimensionality reduction as the dataset has high dimensions\n",
    "from sklearn.decomposition import PCA\n",
    "\n",
    "pca = PCA()  \n",
    "X_train = pca.fit_transform(X_train)  \n",
    "X_validation = pca.transform(X_validation)\n",
    "X_test = pca.transform(X_test) "
   ]
  },
  {
   "cell_type": "code",
   "execution_count": 27,
   "metadata": {},
   "outputs": [
    {
     "name": "stdout",
     "output_type": "stream",
     "text": [
      "0      2.517011e-01\n",
      "1      1.089057e-01\n",
      "2      7.821135e-02\n",
      "3      6.404113e-02\n",
      "4      5.301884e-02\n",
      "5      4.954015e-02\n",
      "6      4.307891e-02\n",
      "7      3.302442e-02\n",
      "8      3.028885e-02\n",
      "9      2.500635e-02\n",
      "10     2.306048e-02\n",
      "11     2.075090e-02\n",
      "12     1.968058e-02\n",
      "13     1.479066e-02\n",
      "14     1.287455e-02\n",
      "15     1.222909e-02\n",
      "16     1.197437e-02\n",
      "17     1.052674e-02\n",
      "18     9.993804e-03\n",
      "19     9.653641e-03\n",
      "20     8.723885e-03\n",
      "21     8.190145e-03\n",
      "22     7.867369e-03\n",
      "23     7.583638e-03\n",
      "24     7.046688e-03\n",
      "25     6.631260e-03\n",
      "26     5.630096e-03\n",
      "27     5.594683e-03\n",
      "28     4.493190e-03\n",
      "29     4.242948e-03\n",
      "           ...     \n",
      "189    1.323451e-33\n",
      "190    1.323451e-33\n",
      "191    1.323451e-33\n",
      "192    1.323451e-33\n",
      "193    1.323451e-33\n",
      "194    1.323451e-33\n",
      "195    1.323451e-33\n",
      "196    1.323451e-33\n",
      "197    1.323451e-33\n",
      "198    1.323451e-33\n",
      "199    1.323451e-33\n",
      "200    1.323451e-33\n",
      "201    1.323451e-33\n",
      "202    1.323451e-33\n",
      "203    1.323451e-33\n",
      "204    1.323451e-33\n",
      "205    1.323451e-33\n",
      "206    1.323451e-33\n",
      "207    1.323451e-33\n",
      "208    1.323451e-33\n",
      "209    1.323451e-33\n",
      "210    1.323451e-33\n",
      "211    1.323451e-33\n",
      "212    1.323451e-33\n",
      "213    1.323451e-33\n",
      "214    1.323451e-33\n",
      "215    1.323451e-33\n",
      "216    1.323451e-33\n",
      "217    1.323451e-33\n",
      "218    9.033797e-34\n",
      "Length: 219, dtype: float64\n"
     ]
    }
   ],
   "source": [
    "var_explained = pca.explained_variance_ratio_ #ratio of variance each PC explains\n",
    "print(pd.Series(var_explained))\n"
   ]
  },
  {
   "cell_type": "code",
   "execution_count": 31,
   "metadata": {},
   "outputs": [
    {
     "name": "stdout",
     "output_type": "stream",
     "text": [
      "0.9521790060590138\n"
     ]
    }
   ],
   "source": [
    "print(sum(var_explained[0:31]))\n",
    "##indeed,the first 60 PCs explain 99% of the variance"
   ]
  },
  {
   "cell_type": "code",
   "execution_count": 32,
   "metadata": {},
   "outputs": [
    {
     "name": "stdout",
     "output_type": "stream",
     "text": [
      "[25.17 36.06 43.88 50.28 55.58 60.53 64.84 68.14 71.17 73.67 75.98 78.06\n",
      " 80.03 81.51 82.8  84.02 85.22 86.27 87.27 88.24 89.11 89.93 90.72 91.48\n",
      " 92.18 92.84 93.4  93.96 94.41 94.83 95.21 95.54 95.84 96.12 96.38 96.63\n",
      " 96.85 97.06 97.27 97.47 97.65 97.82 97.97 98.11 98.24 98.36 98.47 98.58\n",
      " 98.68 98.78 98.87 98.95 99.03 99.1  99.16 99.22 99.27 99.32 99.37 99.42\n",
      " 99.46 99.5  99.54 99.57 99.6  99.63 99.65 99.67 99.69 99.71 99.73 99.75\n",
      " 99.77 99.79 99.8  99.81 99.82 99.83 99.84 99.85 99.86 99.87 99.88 99.89\n",
      " 99.9  99.91 99.92 99.93 99.94 99.94 99.94 99.94 99.94 99.94 99.94 99.94\n",
      " 99.94 99.94 99.94 99.94 99.94 99.94 99.94 99.94 99.94 99.94 99.94 99.94\n",
      " 99.94 99.94 99.94 99.94 99.94 99.94 99.94 99.94 99.94 99.94 99.94 99.94\n",
      " 99.94 99.94 99.94 99.94 99.94 99.94 99.94 99.94 99.94 99.94 99.94 99.94\n",
      " 99.94 99.94 99.94 99.94 99.94 99.94 99.94 99.94 99.94 99.94 99.94 99.94\n",
      " 99.94 99.94 99.94 99.94 99.94 99.94 99.94 99.94 99.94 99.94 99.94 99.94\n",
      " 99.94 99.94 99.94 99.94 99.94 99.94 99.94 99.94 99.94 99.94 99.94 99.94\n",
      " 99.94 99.94 99.94 99.94 99.94 99.94 99.94 99.94 99.94 99.94 99.94 99.94\n",
      " 99.94 99.94 99.94 99.94 99.94 99.94 99.94 99.94 99.94 99.94 99.94 99.94\n",
      " 99.94 99.94 99.94 99.94 99.94 99.94 99.94 99.94 99.94 99.94 99.94 99.94\n",
      " 99.94 99.94 99.94 99.94 99.94 99.94 99.94 99.94 99.94 99.94 99.94 99.94\n",
      " 99.94 99.94 99.94]\n"
     ]
    }
   ],
   "source": [
    "#The amount of variance that each PC explains\n",
    "var= pca.explained_variance_ratio_\n",
    "\n",
    "#Cumulative Variance explains\n",
    "var1=np.cumsum(np.round(pca.explained_variance_ratio_, decimals=4)*100)\n",
    "print(var1)\n"
   ]
  },
  {
   "cell_type": "code",
   "execution_count": 33,
   "metadata": {},
   "outputs": [
    {
     "data": {
      "text/plain": [
       "[<matplotlib.lines.Line2D at 0x22ebea9f320>]"
      ]
     },
     "execution_count": 33,
     "metadata": {},
     "output_type": "execute_result"
    },
    {
     "data": {
      "image/png": "[encoded data removed]",
      "text/plain": [
       "<matplotlib.figure.Figure at 0x22ebea0f7b8>"
      ]
     },
     "metadata": {},
     "output_type": "display_data"
    }
   ],
   "source": [
    "#Plotting to visualize\n",
    "import matplotlib.pyplot as plt\n",
    "%matplotlib inline\n",
    "plt.plot(var1)"
   ]
  },
  {
   "cell_type": "code",
   "execution_count": 35,
   "metadata": {},
   "outputs": [],
   "source": [
    "from sklearn.decomposition import PCA\n",
    "\n",
    "pca = PCA(n_components=31)   #only include first 60 components as it explains maximum variance\n",
    "X_train = pca.fit_transform(X_train)  \n",
    "X_validation = pca.transform(X_validation)  \n",
    "X_test = pca.transform(X_test) "
   ]
  },
  {
   "cell_type": "code",
   "execution_count": 36,
   "metadata": {},
   "outputs": [
    {
     "name": "stdout",
     "output_type": "stream",
     "text": [
      "(740, 31)\n",
      "(186, 31)\n",
      "(400, 31)\n"
     ]
    }
   ],
   "source": [
    "print(X_train.shape)\n",
    "print(X_validation.shape)\n",
    "print(X_test.shape)"
   ]
  },
  {
   "cell_type": "code",
   "execution_count": 45,
   "metadata": {},
   "outputs": [
    {
     "data": {
      "text/plain": [
       "LogisticRegression(C=1.0, class_weight=None, dual=False, fit_intercept=True,\n",
       "          intercept_scaling=1, max_iter=100, multi_class='ovr', n_jobs=1,\n",
       "          penalty='l2', random_state=None, solver='liblinear', tol=0.0001,\n",
       "          verbose=0, warm_start=False)"
      ]
     },
     "execution_count": 45,
     "metadata": {},
     "output_type": "execute_result"
    }
   ],
   "source": [
    "#Training model using Logistic Regression\n",
    "\n",
    "from sklearn.linear_model import LogisticRegression\n",
    "from sklearn import metrics\n",
    "logreg = LogisticRegression()\n",
    "logreg.fit(X_train, y_train)"
   ]
  },
  {
   "cell_type": "code",
   "execution_count": 46,
   "metadata": {},
   "outputs": [
    {
     "name": "stdout",
     "output_type": "stream",
     "text": [
      "Accuracy of logistic regression classifier on test set: 0.70\n"
     ]
    }
   ],
   "source": [
    "#Prediction on Validation data\n",
    "y_pred = logreg.predict(X_validation)\n",
    "\n",
    "print('Accuracy of logistic regression classifier on test set: {:.2f}'.format(logreg.score(X_validation, y_validation)))\n",
    "#print(\"Accuracy is {0:.2f}\".format(accuracy_score(y_validation, y_pred)))"
   ]
  },
  {
   "cell_type": "code",
   "execution_count": 47,
   "metadata": {},
   "outputs": [
    {
     "name": "stdout",
     "output_type": "stream",
     "text": [
      "[[67 21]\n",
      " [34 64]]\n"
     ]
    }
   ],
   "source": [
    "#Confusion matrix\n",
    "\n",
    "from sklearn.metrics import confusion_matrix\n",
    "confusion_matrix = confusion_matrix(y_validation, y_pred)\n",
    "print(confusion_matrix)\n",
    "#The result is telling us that we have 77+79 correct predictions and 23+14 incorrect predictions."
   ]
  },
  {
   "cell_type": "code",
   "execution_count": 48,
   "metadata": {},
   "outputs": [
    {
     "name": "stdout",
     "output_type": "stream",
     "text": [
      "             precision    recall  f1-score   support\n",
      "\n",
      "        Bad       0.66      0.76      0.71        88\n",
      "       Good       0.75      0.65      0.70        98\n",
      "\n",
      "avg / total       0.71      0.70      0.70       186\n",
      "\n"
     ]
    }
   ],
   "source": [
    "#Classficattion report on Validaton dataset\n",
    "\n",
    "from sklearn.metrics import classification_report\n",
    "print(classification_report(y_validation, y_pred))"
   ]
  },
  {
   "cell_type": "code",
   "execution_count": 49,
   "metadata": {},
   "outputs": [
    {
     "name": "stdout",
     "output_type": "stream",
     "text": [
      "Good    236\n",
      "Bad     164\n",
      "Name: Machine_State, dtype: int64\n"
     ]
    }
   ],
   "source": [
    "#test predictions\n",
    "\n",
    "test_logistic_pred = logreg.predict(X_test)\n",
    "pred_test_logistic = pd.DataFrame(test_logistic_pred, columns=['Machine_State'])\n",
    "print(pd.value_counts(pred_test_logistic['Machine_State']))\n",
    "\n",
    "#submission = pd.concat([SerialNum, pred_test_logistic], axis=1)"
   ]
  },
  {
   "cell_type": "code",
   "execution_count": 50,
   "metadata": {},
   "outputs": [
    {
     "ename": "NameError",
     "evalue": "name 'accuracy_score' is not defined",
     "output_type": "error",
     "traceback": [
      "\u001b[1;31m---------------------------------------------------------------------------\u001b[0m",
      "\u001b[1;31mNameError\u001b[0m                                 Traceback (most recent call last)",
      "\u001b[1;32m<ipython-input-50-ab51261e3c20>\u001b[0m in \u001b[0;36m<module>\u001b[1;34m()\u001b[0m\n\u001b[0;32m      3\u001b[0m \u001b[0mnaive\u001b[0m \u001b[1;33m=\u001b[0m \u001b[0mmodel\u001b[0m\u001b[1;33m.\u001b[0m\u001b[0mfit\u001b[0m\u001b[1;33m(\u001b[0m\u001b[0mX_train\u001b[0m\u001b[1;33m,\u001b[0m \u001b[0my_train\u001b[0m\u001b[1;33m)\u001b[0m\u001b[1;33m\u001b[0m\u001b[0m\n\u001b[0;32m      4\u001b[0m \u001b[0mnaive_preds\u001b[0m \u001b[1;33m=\u001b[0m \u001b[0mnaive\u001b[0m\u001b[1;33m.\u001b[0m\u001b[0mpredict\u001b[0m\u001b[1;33m(\u001b[0m\u001b[0mX_validation\u001b[0m\u001b[1;33m)\u001b[0m\u001b[1;33m\u001b[0m\u001b[0m\n\u001b[1;32m----> 5\u001b[1;33m \u001b[0mprint\u001b[0m\u001b[1;33m(\u001b[0m\u001b[1;34m\"Accuracy is {0:.2f}\"\u001b[0m\u001b[1;33m.\u001b[0m\u001b[0mformat\u001b[0m\u001b[1;33m(\u001b[0m\u001b[0maccuracy_score\u001b[0m\u001b[1;33m(\u001b[0m\u001b[0my_validation\u001b[0m\u001b[1;33m,\u001b[0m \u001b[0mnaive_preds\u001b[0m\u001b[1;33m)\u001b[0m\u001b[1;33m)\u001b[0m\u001b[1;33m)\u001b[0m\u001b[1;33m\u001b[0m\u001b[0m\n\u001b[0m",
      "\u001b[1;31mNameError\u001b[0m: name 'accuracy_score' is not defined"
     ]
    }
   ],
   "source": [
    "from sklearn.naive_bayes import GaussianNB, BernoulliNB\n",
    "model = GaussianNB()\n",
    "naive = model.fit(X_train, y_train)\n",
    "naive_preds = naive.predict(X_validation)\n",
    "print(\"Accuracy is {0:.2f}\".format(accuracy_score(y_validation, naive_preds)))"
   ]
  },
  {
   "cell_type": "code",
   "execution_count": 51,
   "metadata": {},
   "outputs": [
    {
     "name": "stdout",
     "output_type": "stream",
     "text": [
      "[[74 14]\n",
      " [49 49]]\n"
     ]
    }
   ],
   "source": [
    "from sklearn.metrics import confusion_matrix\n",
    "confusion_matrix_n= confusion_matrix(y_validation, naive_preds)\n",
    "print(confusion_matrix_n)\n",
    "#print(\"confusion Matrix for Naive Bayes Model : \" ,confusion_matrix_naive)"
   ]
  },
  {
   "cell_type": "code",
   "execution_count": 52,
   "metadata": {},
   "outputs": [
    {
     "name": "stdout",
     "output_type": "stream",
     "text": [
      "classification_report for Naive Bayes Model : \n",
      "             precision    recall  f1-score   support\n",
      "\n",
      "        Bad       0.60      0.84      0.70        88\n",
      "       Good       0.78      0.50      0.61        98\n",
      "\n",
      "avg / total       0.69      0.66      0.65       186\n",
      "\n"
     ]
    }
   ],
   "source": [
    "print(\"classification_report for Naive Bayes Model : \")\n",
    "print(classification_report(y_validation, naive_preds))"
   ]
  },
  {
   "cell_type": "code",
   "execution_count": 53,
   "metadata": {},
   "outputs": [
    {
     "name": "stdout",
     "output_type": "stream",
     "text": [
      "Bad     227\n",
      "Good    173\n",
      "Name: Machine_State, dtype: int64\n"
     ]
    }
   ],
   "source": [
    "#test predictions\n",
    "\n",
    "test_naive_pred = naive.predict(X_test)\n",
    "pred_test_naive = pd.DataFrame(test_naive_pred, columns=['Machine_State'])\n",
    "print(pd.value_counts(pred_test_naive['Machine_State']))"
   ]
  },
  {
   "cell_type": "code",
   "execution_count": 54,
   "metadata": {},
   "outputs": [],
   "source": [
    "#RandomForest\n",
    "\n",
    "from sklearn.ensemble import RandomForestClassifier\n",
    "rf = RandomForestClassifier(n_estimators=100, criterion='gini', min_samples_split=2)\n",
    "rf_model = rf.fit(X_train, y_train)\n",
    "rf_pred = rf_model.predict(X_validation)"
   ]
  },
  {
   "cell_type": "code",
   "execution_count": 56,
   "metadata": {},
   "outputs": [
    {
     "name": "stdout",
     "output_type": "stream",
     "text": [
      "Accuracy is 0.76\n",
      "             precision    recall  f1-score   support\n",
      "\n",
      "        Bad       0.76      0.74      0.75        88\n",
      "       Good       0.77      0.79      0.78        98\n",
      "\n",
      "avg / total       0.76      0.76      0.76       186\n",
      "\n"
     ]
    }
   ],
   "source": [
    "from sklearn.metrics import accuracy_score, precision_score, recall_score, roc_auc_score\n",
    "print(\"Accuracy is {0:.2f}\".format(accuracy_score(y_validation, rf_pred)))\n",
    "print(classification_report(y_validation, rf_pred))"
   ]
  },
  {
   "cell_type": "code",
   "execution_count": 57,
   "metadata": {},
   "outputs": [
    {
     "name": "stdout",
     "output_type": "stream",
     "text": [
      "Good    279\n",
      "Bad     121\n",
      "Name: Machine_State, dtype: int64\n"
     ]
    }
   ],
   "source": [
    "#test predictions\n",
    "\n",
    "test_rf_pred = rf.predict(X_test)\n",
    "pred_test_rf = pd.DataFrame(test_rf_pred, columns=['Machine_State'])\n",
    "print(pd.value_counts(pred_test_rf['Machine_State']))"
   ]
  },
  {
   "cell_type": "code",
   "execution_count": null,
   "metadata": {},
   "outputs": [],
   "source": []
  },
  {
   "cell_type": "code",
   "execution_count": null,
   "metadata": {},
   "outputs": [],
   "source": []
  },
  {
   "cell_type": "code",
   "execution_count": null,
   "metadata": {},
   "outputs": [],
   "source": []
  }
 ],
 "metadata": {
  "kernelspec": {
   "display_name": "Python 3",
   "language": "python",
   "name": "python3"
  },
  "language_info": {
   "codemirror_mode": {
    "name": "ipython",
    "version": 3
   },
   "file_extension": ".py",
   "mimetype": "text/x-python",
   "name": "python",
   "nbconvert_exporter": "python",
   "pygments_lexer": "ipython3",
   "version": "3.6.4"
  }
 },
 "nbformat": 4,
 "nbformat_minor": 2
}
