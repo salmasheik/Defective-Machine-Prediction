{
 "cells": [
  {
   "cell_type": "code",
   "execution_count": null,
   "metadata": {
    "collapsed": true
   },
   "outputs": [],
   "source": [
    "#Load libraries:"
   ]
  },
  {
   "cell_type": "code",
   "execution_count": 63,
   "metadata": {
    "collapsed": true
   },
   "outputs": [],
   "source": [
    "import pandas as pd\n",
    "import numpy as np\n",
    "import os\n",
    "from sklearn import preprocessing\n",
    "from sklearn.cross_validation import train_test_split\n",
    "from sklearn.linear_model import LogisticRegression\n",
    "from sklearn import metrics, cross_validation\n",
    "from sklearn.ensemble import RandomForestClassifier\n",
    "from sklearn.preprocessing import StandardScaler\n",
    "from sklearn.metrics import classification_report\n",
    "from sklearn.metrics import accuracy_score\n",
    "import matplotlib.pyplot as plt\n",
    "from imblearn.over_sampling import SMOTE"
   ]
  },
  {
   "cell_type": "code",
   "execution_count": null,
   "metadata": {
    "collapsed": true
   },
   "outputs": [],
   "source": [
    "#Read training and testing file:"
   ]
  },
  {
   "cell_type": "code",
   "execution_count": 87,
   "metadata": {
    "collapsed": true
   },
   "outputs": [],
   "source": [
    "testing = pd.read_csv('F:\\\\Noodle.ai\\\\ManufacturingQuality\\\\TestingSet.csv',header=0, encoding='UTF-8') "
   ]
  },
  {
   "cell_type": "code",
   "execution_count": 34,
   "metadata": {
    "collapsed": true
   },
   "outputs": [],
   "source": [
    "training = pd.read_csv('F:\\\\Noodle.ai\\\\ManufacturingQuality\\\\TrainingSet.csv',header=0, encoding='UTF-8') "
   ]
  },
  {
   "cell_type": "code",
   "execution_count": 35,
   "metadata": {},
   "outputs": [
    {
     "data": {
      "text/html": [
       "<div>\n",
       "<style>\n",
       "    .dataframe thead tr:only-child th {\n",
       "        text-align: right;\n",
       "    }\n",
       "\n",
       "    .dataframe thead th {\n",
       "        text-align: left;\n",
       "    }\n",
       "\n",
       "    .dataframe tbody tr th {\n",
       "        vertical-align: top;\n",
       "    }\n",
       "</style>\n",
       "<table border=\"1\" class=\"dataframe\">\n",
       "  <thead>\n",
       "    <tr style=\"text-align: right;\">\n",
       "      <th></th>\n",
       "      <th>V1</th>\n",
       "      <th>V2</th>\n",
       "      <th>V3</th>\n",
       "      <th>V4</th>\n",
       "      <th>V5</th>\n",
       "      <th>V6</th>\n",
       "      <th>V7</th>\n",
       "      <th>V8</th>\n",
       "      <th>V9</th>\n",
       "      <th>V10</th>\n",
       "      <th>...</th>\n",
       "      <th>V211</th>\n",
       "      <th>V212</th>\n",
       "      <th>V213</th>\n",
       "      <th>V214</th>\n",
       "      <th>V215</th>\n",
       "      <th>V216</th>\n",
       "      <th>V217</th>\n",
       "      <th>V218</th>\n",
       "      <th>V219</th>\n",
       "      <th>Machine_State</th>\n",
       "    </tr>\n",
       "  </thead>\n",
       "  <tbody>\n",
       "    <tr>\n",
       "      <th>0</th>\n",
       "      <td>NaN</td>\n",
       "      <td>5.135988</td>\n",
       "      <td>5.0000</td>\n",
       "      <td>5.28125</td>\n",
       "      <td>0.058368</td>\n",
       "      <td>2059.53125</td>\n",
       "      <td>0.109375</td>\n",
       "      <td>NaN</td>\n",
       "      <td>5.135988</td>\n",
       "      <td>5.0000</td>\n",
       "      <td>...</td>\n",
       "      <td>0.0</td>\n",
       "      <td>0.0</td>\n",
       "      <td>NaN</td>\n",
       "      <td>0.0</td>\n",
       "      <td>0.0</td>\n",
       "      <td>0.0</td>\n",
       "      <td>0.0</td>\n",
       "      <td>0.0</td>\n",
       "      <td>0.0</td>\n",
       "      <td>Good</td>\n",
       "    </tr>\n",
       "    <tr>\n",
       "      <th>1</th>\n",
       "      <td>NaN</td>\n",
       "      <td>5.908042</td>\n",
       "      <td>5.7500</td>\n",
       "      <td>6.09375</td>\n",
       "      <td>0.063232</td>\n",
       "      <td>2369.12500</td>\n",
       "      <td>0.109375</td>\n",
       "      <td>NaN</td>\n",
       "      <td>5.908042</td>\n",
       "      <td>5.7500</td>\n",
       "      <td>...</td>\n",
       "      <td>0.0</td>\n",
       "      <td>0.0</td>\n",
       "      <td>NaN</td>\n",
       "      <td>0.0</td>\n",
       "      <td>0.0</td>\n",
       "      <td>0.0</td>\n",
       "      <td>0.0</td>\n",
       "      <td>0.0</td>\n",
       "      <td>0.0</td>\n",
       "      <td>Good</td>\n",
       "    </tr>\n",
       "    <tr>\n",
       "      <th>2</th>\n",
       "      <td>0.00000</td>\n",
       "      <td>9.244870</td>\n",
       "      <td>0.1875</td>\n",
       "      <td>13.75000</td>\n",
       "      <td>3.890521</td>\n",
       "      <td>3707.19305</td>\n",
       "      <td>12.912530</td>\n",
       "      <td>0.00000</td>\n",
       "      <td>9.244870</td>\n",
       "      <td>0.1875</td>\n",
       "      <td>...</td>\n",
       "      <td>0.0</td>\n",
       "      <td>0.0</td>\n",
       "      <td>0.0</td>\n",
       "      <td>0.0</td>\n",
       "      <td>0.0</td>\n",
       "      <td>0.0</td>\n",
       "      <td>0.0</td>\n",
       "      <td>0.0</td>\n",
       "      <td>0.0</td>\n",
       "      <td>Good</td>\n",
       "    </tr>\n",
       "    <tr>\n",
       "      <th>3</th>\n",
       "      <td>0.19375</td>\n",
       "      <td>18.247452</td>\n",
       "      <td>1.4375</td>\n",
       "      <td>20.25000</td>\n",
       "      <td>3.328545</td>\n",
       "      <td>7317.22805</td>\n",
       "      <td>14.437520</td>\n",
       "      <td>0.19375</td>\n",
       "      <td>18.247452</td>\n",
       "      <td>1.4375</td>\n",
       "      <td>...</td>\n",
       "      <td>0.0</td>\n",
       "      <td>0.0</td>\n",
       "      <td>0.0</td>\n",
       "      <td>0.0</td>\n",
       "      <td>0.0</td>\n",
       "      <td>0.0</td>\n",
       "      <td>0.0</td>\n",
       "      <td>0.0</td>\n",
       "      <td>0.0</td>\n",
       "      <td>Good</td>\n",
       "    </tr>\n",
       "    <tr>\n",
       "      <th>4</th>\n",
       "      <td>0.19375</td>\n",
       "      <td>21.642090</td>\n",
       "      <td>1.4375</td>\n",
       "      <td>25.59380</td>\n",
       "      <td>6.094741</td>\n",
       "      <td>8678.47815</td>\n",
       "      <td>21.615660</td>\n",
       "      <td>0.19375</td>\n",
       "      <td>21.642090</td>\n",
       "      <td>1.4375</td>\n",
       "      <td>...</td>\n",
       "      <td>0.0</td>\n",
       "      <td>0.0</td>\n",
       "      <td>0.0</td>\n",
       "      <td>0.0</td>\n",
       "      <td>0.0</td>\n",
       "      <td>0.0</td>\n",
       "      <td>0.0</td>\n",
       "      <td>0.0</td>\n",
       "      <td>0.0</td>\n",
       "      <td>Good</td>\n",
       "    </tr>\n",
       "  </tbody>\n",
       "</table>\n",
       "<p>5 rows × 220 columns</p>\n",
       "</div>"
      ],
      "text/plain": [
       "        V1         V2      V3        V4        V5          V6         V7  \\\n",
       "0      NaN   5.135988  5.0000   5.28125  0.058368  2059.53125   0.109375   \n",
       "1      NaN   5.908042  5.7500   6.09375  0.063232  2369.12500   0.109375   \n",
       "2  0.00000   9.244870  0.1875  13.75000  3.890521  3707.19305  12.912530   \n",
       "3  0.19375  18.247452  1.4375  20.25000  3.328545  7317.22805  14.437520   \n",
       "4  0.19375  21.642090  1.4375  25.59380  6.094741  8678.47815  21.615660   \n",
       "\n",
       "        V8         V9     V10      ...        V211  V212  V213  V214  V215  \\\n",
       "0      NaN   5.135988  5.0000      ...         0.0   0.0   NaN   0.0   0.0   \n",
       "1      NaN   5.908042  5.7500      ...         0.0   0.0   NaN   0.0   0.0   \n",
       "2  0.00000   9.244870  0.1875      ...         0.0   0.0   0.0   0.0   0.0   \n",
       "3  0.19375  18.247452  1.4375      ...         0.0   0.0   0.0   0.0   0.0   \n",
       "4  0.19375  21.642090  1.4375      ...         0.0   0.0   0.0   0.0   0.0   \n",
       "\n",
       "   V216  V217  V218  V219  Machine_State  \n",
       "0   0.0   0.0   0.0   0.0           Good  \n",
       "1   0.0   0.0   0.0   0.0           Good  \n",
       "2   0.0   0.0   0.0   0.0           Good  \n",
       "3   0.0   0.0   0.0   0.0           Good  \n",
       "4   0.0   0.0   0.0   0.0           Good  \n",
       "\n",
       "[5 rows x 220 columns]"
      ]
     },
     "execution_count": 35,
     "metadata": {},
     "output_type": "execute_result"
    }
   ],
   "source": [
    "training.head()"
   ]
  },
  {
   "cell_type": "code",
   "execution_count": 88,
   "metadata": {},
   "outputs": [
    {
     "data": {
      "text/html": [
       "<div>\n",
       "<style>\n",
       "    .dataframe thead tr:only-child th {\n",
       "        text-align: right;\n",
       "    }\n",
       "\n",
       "    .dataframe thead th {\n",
       "        text-align: left;\n",
       "    }\n",
       "\n",
       "    .dataframe tbody tr th {\n",
       "        vertical-align: top;\n",
       "    }\n",
       "</style>\n",
       "<table border=\"1\" class=\"dataframe\">\n",
       "  <thead>\n",
       "    <tr style=\"text-align: right;\">\n",
       "      <th></th>\n",
       "      <th>Sl No.</th>\n",
       "      <th>V1</th>\n",
       "      <th>V2</th>\n",
       "      <th>V3</th>\n",
       "      <th>V4</th>\n",
       "      <th>V5</th>\n",
       "      <th>V6</th>\n",
       "      <th>V7</th>\n",
       "      <th>V8</th>\n",
       "      <th>V9</th>\n",
       "      <th>...</th>\n",
       "      <th>V210</th>\n",
       "      <th>V211</th>\n",
       "      <th>V212</th>\n",
       "      <th>V213</th>\n",
       "      <th>V214</th>\n",
       "      <th>V215</th>\n",
       "      <th>V216</th>\n",
       "      <th>V217</th>\n",
       "      <th>V218</th>\n",
       "      <th>V219</th>\n",
       "    </tr>\n",
       "  </thead>\n",
       "  <tbody>\n",
       "    <tr>\n",
       "      <th>0</th>\n",
       "      <td>1</td>\n",
       "      <td>0.396875</td>\n",
       "      <td>6.598664</td>\n",
       "      <td>1.00000</td>\n",
       "      <td>22.4063</td>\n",
       "      <td>6.164663</td>\n",
       "      <td>2646.06440</td>\n",
       "      <td>20.715655</td>\n",
       "      <td>0.396875</td>\n",
       "      <td>6.600924</td>\n",
       "      <td>...</td>\n",
       "      <td>146.257092</td>\n",
       "      <td>-0.003424</td>\n",
       "      <td>0.873047</td>\n",
       "      <td>0.00000</td>\n",
       "      <td>0.000000</td>\n",
       "      <td>0.000000</td>\n",
       "      <td>0.000000</td>\n",
       "      <td>0.00000</td>\n",
       "      <td>0.000000</td>\n",
       "      <td>0.000000</td>\n",
       "    </tr>\n",
       "    <tr>\n",
       "      <th>1</th>\n",
       "      <td>2</td>\n",
       "      <td>0.000000</td>\n",
       "      <td>0.000000</td>\n",
       "      <td>0.00000</td>\n",
       "      <td>0.0000</td>\n",
       "      <td>0.000000</td>\n",
       "      <td>0.00000</td>\n",
       "      <td>0.000000</td>\n",
       "      <td>0.000000</td>\n",
       "      <td>0.000000</td>\n",
       "      <td>...</td>\n",
       "      <td>119.430667</td>\n",
       "      <td>-0.001587</td>\n",
       "      <td>0.375977</td>\n",
       "      <td>0.00000</td>\n",
       "      <td>0.000000</td>\n",
       "      <td>0.000000</td>\n",
       "      <td>0.000000</td>\n",
       "      <td>0.00000</td>\n",
       "      <td>0.000000</td>\n",
       "      <td>0.000000</td>\n",
       "    </tr>\n",
       "    <tr>\n",
       "      <th>2</th>\n",
       "      <td>3</td>\n",
       "      <td>0.000000</td>\n",
       "      <td>0.000000</td>\n",
       "      <td>0.00000</td>\n",
       "      <td>0.0000</td>\n",
       "      <td>0.000000</td>\n",
       "      <td>0.00000</td>\n",
       "      <td>0.000000</td>\n",
       "      <td>0.000000</td>\n",
       "      <td>0.000000</td>\n",
       "      <td>...</td>\n",
       "      <td>-42.765261</td>\n",
       "      <td>-0.258691</td>\n",
       "      <td>0.889648</td>\n",
       "      <td>0.00000</td>\n",
       "      <td>0.000000</td>\n",
       "      <td>0.000000</td>\n",
       "      <td>0.000000</td>\n",
       "      <td>0.00000</td>\n",
       "      <td>0.000000</td>\n",
       "      <td>0.000000</td>\n",
       "    </tr>\n",
       "    <tr>\n",
       "      <th>3</th>\n",
       "      <td>4</td>\n",
       "      <td>0.000000</td>\n",
       "      <td>0.000000</td>\n",
       "      <td>0.00000</td>\n",
       "      <td>0.0000</td>\n",
       "      <td>0.000000</td>\n",
       "      <td>0.00000</td>\n",
       "      <td>0.000000</td>\n",
       "      <td>0.000000</td>\n",
       "      <td>0.000000</td>\n",
       "      <td>...</td>\n",
       "      <td>9.035096</td>\n",
       "      <td>-0.046661</td>\n",
       "      <td>0.814453</td>\n",
       "      <td>0.00000</td>\n",
       "      <td>0.000000</td>\n",
       "      <td>0.000000</td>\n",
       "      <td>0.000000</td>\n",
       "      <td>0.00000</td>\n",
       "      <td>0.000000</td>\n",
       "      <td>0.000000</td>\n",
       "    </tr>\n",
       "    <tr>\n",
       "      <th>4</th>\n",
       "      <td>5</td>\n",
       "      <td>0.000000</td>\n",
       "      <td>14.004617</td>\n",
       "      <td>0.15625</td>\n",
       "      <td>23.8750</td>\n",
       "      <td>6.563229</td>\n",
       "      <td>5615.85135</td>\n",
       "      <td>22.496910</td>\n",
       "      <td>0.000000</td>\n",
       "      <td>14.004617</td>\n",
       "      <td>...</td>\n",
       "      <td>1.380177</td>\n",
       "      <td>0.031897</td>\n",
       "      <td>0.500000</td>\n",
       "      <td>-0.06792</td>\n",
       "      <td>0.004368</td>\n",
       "      <td>-0.189453</td>\n",
       "      <td>0.222168</td>\n",
       "      <td>0.09518</td>\n",
       "      <td>1.751471</td>\n",
       "      <td>-0.003174</td>\n",
       "    </tr>\n",
       "  </tbody>\n",
       "</table>\n",
       "<p>5 rows × 220 columns</p>\n",
       "</div>"
      ],
      "text/plain": [
       "   Sl No.        V1         V2       V3       V4        V5          V6  \\\n",
       "0       1  0.396875   6.598664  1.00000  22.4063  6.164663  2646.06440   \n",
       "1       2  0.000000   0.000000  0.00000   0.0000  0.000000     0.00000   \n",
       "2       3  0.000000   0.000000  0.00000   0.0000  0.000000     0.00000   \n",
       "3       4  0.000000   0.000000  0.00000   0.0000  0.000000     0.00000   \n",
       "4       5  0.000000  14.004617  0.15625  23.8750  6.563229  5615.85135   \n",
       "\n",
       "          V7        V8         V9    ...           V210      V211      V212  \\\n",
       "0  20.715655  0.396875   6.600924    ...     146.257092 -0.003424  0.873047   \n",
       "1   0.000000  0.000000   0.000000    ...     119.430667 -0.001587  0.375977   \n",
       "2   0.000000  0.000000   0.000000    ...     -42.765261 -0.258691  0.889648   \n",
       "3   0.000000  0.000000   0.000000    ...       9.035096 -0.046661  0.814453   \n",
       "4  22.496910  0.000000  14.004617    ...       1.380177  0.031897  0.500000   \n",
       "\n",
       "      V213      V214      V215      V216     V217      V218      V219  \n",
       "0  0.00000  0.000000  0.000000  0.000000  0.00000  0.000000  0.000000  \n",
       "1  0.00000  0.000000  0.000000  0.000000  0.00000  0.000000  0.000000  \n",
       "2  0.00000  0.000000  0.000000  0.000000  0.00000  0.000000  0.000000  \n",
       "3  0.00000  0.000000  0.000000  0.000000  0.00000  0.000000  0.000000  \n",
       "4 -0.06792  0.004368 -0.189453  0.222168  0.09518  1.751471 -0.003174  \n",
       "\n",
       "[5 rows x 220 columns]"
      ]
     },
     "execution_count": 88,
     "metadata": {},
     "output_type": "execute_result"
    }
   ],
   "source": [
    "testing.head()"
   ]
  },
  {
   "cell_type": "code",
   "execution_count": 89,
   "metadata": {
    "collapsed": true
   },
   "outputs": [],
   "source": [
    "del testing['Sl No.']"
   ]
  },
  {
   "cell_type": "code",
   "execution_count": null,
   "metadata": {
    "collapsed": true
   },
   "outputs": [],
   "source": [
    "#Check for NA vales in training and testing file"
   ]
  },
  {
   "cell_type": "code",
   "execution_count": 90,
   "metadata": {},
   "outputs": [
    {
     "data": {
      "text/plain": [
       "V1      0\n",
       "V2      0\n",
       "V3      0\n",
       "V4      0\n",
       "V5      0\n",
       "V6      0\n",
       "V7      0\n",
       "V8      0\n",
       "V9      0\n",
       "V10     0\n",
       "V11     0\n",
       "V12     0\n",
       "V13     0\n",
       "V14     0\n",
       "V15     0\n",
       "V16     0\n",
       "V17     0\n",
       "V18     0\n",
       "V19     0\n",
       "V20     0\n",
       "V21     0\n",
       "V22     0\n",
       "V23     0\n",
       "V24     0\n",
       "V25     0\n",
       "V26     0\n",
       "V27     0\n",
       "V28     0\n",
       "V29     0\n",
       "V30     0\n",
       "       ..\n",
       "V190    0\n",
       "V191    0\n",
       "V192    0\n",
       "V193    0\n",
       "V194    0\n",
       "V195    0\n",
       "V196    0\n",
       "V197    0\n",
       "V198    0\n",
       "V199    0\n",
       "V200    0\n",
       "V201    0\n",
       "V202    0\n",
       "V203    0\n",
       "V204    0\n",
       "V205    0\n",
       "V206    0\n",
       "V207    0\n",
       "V208    0\n",
       "V209    0\n",
       "V210    0\n",
       "V211    0\n",
       "V212    0\n",
       "V213    0\n",
       "V214    0\n",
       "V215    0\n",
       "V216    0\n",
       "V217    0\n",
       "V218    0\n",
       "V219    0\n",
       "Length: 219, dtype: int64"
      ]
     },
     "execution_count": 90,
     "metadata": {},
     "output_type": "execute_result"
    }
   ],
   "source": [
    "training.isnull().sum()"
   ]
  },
  {
   "cell_type": "code",
   "execution_count": 92,
   "metadata": {},
   "outputs": [
    {
     "data": {
      "text/plain": [
       "V1      5\n",
       "V2      0\n",
       "V3      0\n",
       "V4      0\n",
       "V5      0\n",
       "V6      0\n",
       "V7      0\n",
       "V8      5\n",
       "V9      0\n",
       "V10     0\n",
       "V11     0\n",
       "V12     0\n",
       "V13     0\n",
       "V14     0\n",
       "V15     5\n",
       "V16     0\n",
       "V17     0\n",
       "V18     0\n",
       "V19     0\n",
       "V20     0\n",
       "V21     0\n",
       "V22     5\n",
       "V23     0\n",
       "V24     0\n",
       "V25     0\n",
       "V26     0\n",
       "V27     0\n",
       "V28     0\n",
       "V29     5\n",
       "V30     0\n",
       "       ..\n",
       "V190    5\n",
       "V191    0\n",
       "V192    0\n",
       "V193    0\n",
       "V194    0\n",
       "V195    0\n",
       "V196    0\n",
       "V197    5\n",
       "V198    0\n",
       "V199    0\n",
       "V200    0\n",
       "V201    0\n",
       "V202    0\n",
       "V203    0\n",
       "V204    0\n",
       "V205    5\n",
       "V206    0\n",
       "V207    0\n",
       "V208    0\n",
       "V209    0\n",
       "V210    0\n",
       "V211    0\n",
       "V212    0\n",
       "V213    5\n",
       "V214    0\n",
       "V215    0\n",
       "V216    0\n",
       "V217    0\n",
       "V218    0\n",
       "V219    0\n",
       "Length: 219, dtype: int64"
      ]
     },
     "execution_count": 92,
     "metadata": {},
     "output_type": "execute_result"
    }
   ],
   "source": [
    "testing.isnull().sum()"
   ]
  },
  {
   "cell_type": "code",
   "execution_count": null,
   "metadata": {
    "collapsed": true
   },
   "outputs": [],
   "source": [
    "#Drop NA values from training data :"
   ]
  },
  {
   "cell_type": "code",
   "execution_count": 37,
   "metadata": {
    "collapsed": true
   },
   "outputs": [],
   "source": [
    "training = training.dropna()"
   ]
  },
  {
   "cell_type": "code",
   "execution_count": 38,
   "metadata": {},
   "outputs": [
    {
     "data": {
      "text/plain": [
       "V1               0\n",
       "V2               0\n",
       "V3               0\n",
       "V4               0\n",
       "V5               0\n",
       "V6               0\n",
       "V7               0\n",
       "V8               0\n",
       "V9               0\n",
       "V10              0\n",
       "V11              0\n",
       "V12              0\n",
       "V13              0\n",
       "V14              0\n",
       "V15              0\n",
       "V16              0\n",
       "V17              0\n",
       "V18              0\n",
       "V19              0\n",
       "V20              0\n",
       "V21              0\n",
       "V22              0\n",
       "V23              0\n",
       "V24              0\n",
       "V25              0\n",
       "V26              0\n",
       "V27              0\n",
       "V28              0\n",
       "V29              0\n",
       "V30              0\n",
       "                ..\n",
       "V191             0\n",
       "V192             0\n",
       "V193             0\n",
       "V194             0\n",
       "V195             0\n",
       "V196             0\n",
       "V197             0\n",
       "V198             0\n",
       "V199             0\n",
       "V200             0\n",
       "V201             0\n",
       "V202             0\n",
       "V203             0\n",
       "V204             0\n",
       "V205             0\n",
       "V206             0\n",
       "V207             0\n",
       "V208             0\n",
       "V209             0\n",
       "V210             0\n",
       "V211             0\n",
       "V212             0\n",
       "V213             0\n",
       "V214             0\n",
       "V215             0\n",
       "V216             0\n",
       "V217             0\n",
       "V218             0\n",
       "V219             0\n",
       "Machine_State    0\n",
       "Length: 220, dtype: int64"
      ]
     },
     "execution_count": 38,
     "metadata": {},
     "output_type": "execute_result"
    }
   ],
   "source": [
    "training.isnull().sum()"
   ]
  },
  {
   "cell_type": "code",
   "execution_count": 39,
   "metadata": {},
   "outputs": [
    {
     "data": {
      "text/plain": [
       "(3647, 220)"
      ]
     },
     "execution_count": 39,
     "metadata": {},
     "output_type": "execute_result"
    }
   ],
   "source": [
    "training.shape"
   ]
  },
  {
   "cell_type": "code",
   "execution_count": 10,
   "metadata": {
    "collapsed": true
   },
   "outputs": [],
   "source": [
    "#Split target and training data:"
   ]
  },
  {
   "cell_type": "code",
   "execution_count": 41,
   "metadata": {
    "collapsed": true
   },
   "outputs": [],
   "source": [
    "target = training.iloc[:,-1]"
   ]
  },
  {
   "cell_type": "code",
   "execution_count": 42,
   "metadata": {},
   "outputs": [
    {
     "data": {
      "text/plain": [
       "2    Good\n",
       "3    Good\n",
       "4    Good\n",
       "5    Good\n",
       "6    Good\n",
       "Name: Machine_State, dtype: object"
      ]
     },
     "execution_count": 42,
     "metadata": {},
     "output_type": "execute_result"
    }
   ],
   "source": [
    "target.head()"
   ]
  },
  {
   "cell_type": "code",
   "execution_count": 64,
   "metadata": {},
   "outputs": [
    {
     "data": {
      "text/plain": [
       "dtype('O')"
      ]
     },
     "execution_count": 64,
     "metadata": {},
     "output_type": "execute_result"
    }
   ],
   "source": [
    "target.dtypes"
   ]
  },
  {
   "cell_type": "code",
   "execution_count": 66,
   "metadata": {},
   "outputs": [
    {
     "data": {
      "text/plain": [
       "V1    float64\n",
       "V2    float64\n",
       "V3    float64\n",
       "V4    float64\n",
       "V5    float64\n",
       "dtype: object"
      ]
     },
     "execution_count": 66,
     "metadata": {},
     "output_type": "execute_result"
    }
   ],
   "source": [
    "training.dtypes.head()"
   ]
  },
  {
   "cell_type": "code",
   "execution_count": 43,
   "metadata": {
    "collapsed": true
   },
   "outputs": [],
   "source": [
    "training = training.drop('Machine_State',axis=1)"
   ]
  },
  {
   "cell_type": "code",
   "execution_count": null,
   "metadata": {
    "collapsed": true
   },
   "outputs": [],
   "source": [
    "#Final shape of data:"
   ]
  },
  {
   "cell_type": "code",
   "execution_count": 44,
   "metadata": {},
   "outputs": [
    {
     "data": {
      "text/plain": [
       "(3647, 219)"
      ]
     },
     "execution_count": 44,
     "metadata": {},
     "output_type": "execute_result"
    }
   ],
   "source": [
    "training.shape"
   ]
  },
  {
   "cell_type": "code",
   "execution_count": 45,
   "metadata": {},
   "outputs": [
    {
     "data": {
      "text/plain": [
       "(3647,)"
      ]
     },
     "execution_count": 45,
     "metadata": {},
     "output_type": "execute_result"
    }
   ],
   "source": [
    "target.shape"
   ]
  },
  {
   "cell_type": "code",
   "execution_count": null,
   "metadata": {
    "collapsed": true
   },
   "outputs": [],
   "source": [
    "#Normalization of Numerical data:"
   ]
  },
  {
   "cell_type": "code",
   "execution_count": 46,
   "metadata": {
    "collapsed": true
   },
   "outputs": [],
   "source": [
    "std_train = pd.DataFrame(preprocessing.scale(training))"
   ]
  },
  {
   "cell_type": "code",
   "execution_count": 47,
   "metadata": {},
   "outputs": [
    {
     "data": {
      "text/html": [
       "<div>\n",
       "<style>\n",
       "    .dataframe thead tr:only-child th {\n",
       "        text-align: right;\n",
       "    }\n",
       "\n",
       "    .dataframe thead th {\n",
       "        text-align: left;\n",
       "    }\n",
       "\n",
       "    .dataframe tbody tr th {\n",
       "        vertical-align: top;\n",
       "    }\n",
       "</style>\n",
       "<table border=\"1\" class=\"dataframe\">\n",
       "  <thead>\n",
       "    <tr style=\"text-align: right;\">\n",
       "      <th></th>\n",
       "      <th>0</th>\n",
       "      <th>1</th>\n",
       "      <th>2</th>\n",
       "      <th>3</th>\n",
       "      <th>4</th>\n",
       "      <th>5</th>\n",
       "      <th>6</th>\n",
       "      <th>7</th>\n",
       "      <th>8</th>\n",
       "      <th>9</th>\n",
       "      <th>...</th>\n",
       "      <th>209</th>\n",
       "      <th>210</th>\n",
       "      <th>211</th>\n",
       "      <th>212</th>\n",
       "      <th>213</th>\n",
       "      <th>214</th>\n",
       "      <th>215</th>\n",
       "      <th>216</th>\n",
       "      <th>217</th>\n",
       "      <th>218</th>\n",
       "    </tr>\n",
       "  </thead>\n",
       "  <tbody>\n",
       "    <tr>\n",
       "      <th>0</th>\n",
       "      <td>-0.358045</td>\n",
       "      <td>-0.252460</td>\n",
       "      <td>-0.473640</td>\n",
       "      <td>-0.205576</td>\n",
       "      <td>-0.135059</td>\n",
       "      <td>-0.252447</td>\n",
       "      <td>-0.066589</td>\n",
       "      <td>-0.357874</td>\n",
       "      <td>-0.254079</td>\n",
       "      <td>-0.473571</td>\n",
       "      <td>...</td>\n",
       "      <td>-0.273457</td>\n",
       "      <td>0.166683</td>\n",
       "      <td>-2.430736</td>\n",
       "      <td>-0.240858</td>\n",
       "      <td>-0.271627</td>\n",
       "      <td>0.05132</td>\n",
       "      <td>-0.511862</td>\n",
       "      <td>-0.752807</td>\n",
       "      <td>-0.271622</td>\n",
       "      <td>-0.020784</td>\n",
       "    </tr>\n",
       "    <tr>\n",
       "      <th>1</th>\n",
       "      <td>-0.099507</td>\n",
       "      <td>0.379860</td>\n",
       "      <td>0.691216</td>\n",
       "      <td>0.106586</td>\n",
       "      <td>-0.235102</td>\n",
       "      <td>0.379949</td>\n",
       "      <td>0.020610</td>\n",
       "      <td>-0.099143</td>\n",
       "      <td>0.391796</td>\n",
       "      <td>0.691763</td>\n",
       "      <td>...</td>\n",
       "      <td>-0.273457</td>\n",
       "      <td>0.166683</td>\n",
       "      <td>-2.430736</td>\n",
       "      <td>-0.240858</td>\n",
       "      <td>-0.271627</td>\n",
       "      <td>0.05132</td>\n",
       "      <td>-0.511862</td>\n",
       "      <td>-0.752807</td>\n",
       "      <td>-0.271622</td>\n",
       "      <td>-0.020784</td>\n",
       "    </tr>\n",
       "    <tr>\n",
       "      <th>2</th>\n",
       "      <td>-0.099507</td>\n",
       "      <td>0.618291</td>\n",
       "      <td>0.691216</td>\n",
       "      <td>0.363222</td>\n",
       "      <td>0.257336</td>\n",
       "      <td>0.618410</td>\n",
       "      <td>0.431058</td>\n",
       "      <td>-0.099143</td>\n",
       "      <td>0.635338</td>\n",
       "      <td>0.691763</td>\n",
       "      <td>...</td>\n",
       "      <td>-0.273457</td>\n",
       "      <td>0.166683</td>\n",
       "      <td>-2.430736</td>\n",
       "      <td>-0.240858</td>\n",
       "      <td>-0.271627</td>\n",
       "      <td>0.05132</td>\n",
       "      <td>-0.511862</td>\n",
       "      <td>-0.752807</td>\n",
       "      <td>-0.271622</td>\n",
       "      <td>-0.020784</td>\n",
       "    </tr>\n",
       "    <tr>\n",
       "      <th>3</th>\n",
       "      <td>-0.358045</td>\n",
       "      <td>0.068093</td>\n",
       "      <td>-0.444519</td>\n",
       "      <td>-0.008971</td>\n",
       "      <td>0.002593</td>\n",
       "      <td>0.068145</td>\n",
       "      <td>0.165705</td>\n",
       "      <td>-0.357874</td>\n",
       "      <td>0.073345</td>\n",
       "      <td>-0.444438</td>\n",
       "      <td>...</td>\n",
       "      <td>-0.273457</td>\n",
       "      <td>0.166683</td>\n",
       "      <td>-2.430736</td>\n",
       "      <td>-0.240858</td>\n",
       "      <td>-0.271627</td>\n",
       "      <td>0.05132</td>\n",
       "      <td>-0.511862</td>\n",
       "      <td>-0.752807</td>\n",
       "      <td>-0.271622</td>\n",
       "      <td>-0.020784</td>\n",
       "    </tr>\n",
       "    <tr>\n",
       "      <th>4</th>\n",
       "      <td>-0.099507</td>\n",
       "      <td>0.657931</td>\n",
       "      <td>0.778580</td>\n",
       "      <td>0.495291</td>\n",
       "      <td>0.433174</td>\n",
       "      <td>0.658054</td>\n",
       "      <td>0.544346</td>\n",
       "      <td>-0.099143</td>\n",
       "      <td>0.675828</td>\n",
       "      <td>0.779164</td>\n",
       "      <td>...</td>\n",
       "      <td>-0.273457</td>\n",
       "      <td>0.166683</td>\n",
       "      <td>-2.430736</td>\n",
       "      <td>-0.240858</td>\n",
       "      <td>-0.271627</td>\n",
       "      <td>0.05132</td>\n",
       "      <td>-0.511862</td>\n",
       "      <td>-0.752807</td>\n",
       "      <td>-0.271622</td>\n",
       "      <td>-0.020784</td>\n",
       "    </tr>\n",
       "  </tbody>\n",
       "</table>\n",
       "<p>5 rows × 219 columns</p>\n",
       "</div>"
      ],
      "text/plain": [
       "        0         1         2         3         4         5         6    \\\n",
       "0 -0.358045 -0.252460 -0.473640 -0.205576 -0.135059 -0.252447 -0.066589   \n",
       "1 -0.099507  0.379860  0.691216  0.106586 -0.235102  0.379949  0.020610   \n",
       "2 -0.099507  0.618291  0.691216  0.363222  0.257336  0.618410  0.431058   \n",
       "3 -0.358045  0.068093 -0.444519 -0.008971  0.002593  0.068145  0.165705   \n",
       "4 -0.099507  0.657931  0.778580  0.495291  0.433174  0.658054  0.544346   \n",
       "\n",
       "        7         8         9      ...          209       210       211  \\\n",
       "0 -0.357874 -0.254079 -0.473571    ...    -0.273457  0.166683 -2.430736   \n",
       "1 -0.099143  0.391796  0.691763    ...    -0.273457  0.166683 -2.430736   \n",
       "2 -0.099143  0.635338  0.691763    ...    -0.273457  0.166683 -2.430736   \n",
       "3 -0.357874  0.073345 -0.444438    ...    -0.273457  0.166683 -2.430736   \n",
       "4 -0.099143  0.675828  0.779164    ...    -0.273457  0.166683 -2.430736   \n",
       "\n",
       "        212       213      214       215       216       217       218  \n",
       "0 -0.240858 -0.271627  0.05132 -0.511862 -0.752807 -0.271622 -0.020784  \n",
       "1 -0.240858 -0.271627  0.05132 -0.511862 -0.752807 -0.271622 -0.020784  \n",
       "2 -0.240858 -0.271627  0.05132 -0.511862 -0.752807 -0.271622 -0.020784  \n",
       "3 -0.240858 -0.271627  0.05132 -0.511862 -0.752807 -0.271622 -0.020784  \n",
       "4 -0.240858 -0.271627  0.05132 -0.511862 -0.752807 -0.271622 -0.020784  \n",
       "\n",
       "[5 rows x 219 columns]"
      ]
     },
     "execution_count": 47,
     "metadata": {},
     "output_type": "execute_result"
    }
   ],
   "source": [
    "std_train.head()"
   ]
  },
  {
   "cell_type": "code",
   "execution_count": null,
   "metadata": {
    "collapsed": true
   },
   "outputs": [],
   "source": [
    "#Split data into train and test:"
   ]
  },
  {
   "cell_type": "code",
   "execution_count": 73,
   "metadata": {
    "collapsed": true
   },
   "outputs": [],
   "source": [
    "X_train, X_test, y_train, y_test = train_test_split(training, target, test_size=0.1, random_state=1234)"
   ]
  },
  {
   "cell_type": "code",
   "execution_count": null,
   "metadata": {
    "collapsed": true
   },
   "outputs": [],
   "source": [
    "# basic model without any modification in the data:"
   ]
  },
  {
   "cell_type": "code",
   "execution_count": null,
   "metadata": {
    "collapsed": true
   },
   "outputs": [],
   "source": [
    "#Logistic Regression:"
   ]
  },
  {
   "cell_type": "code",
   "execution_count": 68,
   "metadata": {
    "collapsed": true
   },
   "outputs": [],
   "source": [
    "logreg = LogisticRegression()"
   ]
  },
  {
   "cell_type": "code",
   "execution_count": 69,
   "metadata": {},
   "outputs": [
    {
     "data": {
      "text/plain": [
       "LogisticRegression(C=1.0, class_weight=None, dual=False, fit_intercept=True,\n",
       "          intercept_scaling=1, max_iter=100, multi_class='ovr', n_jobs=1,\n",
       "          penalty='l2', random_state=None, solver='liblinear', tol=0.0001,\n",
       "          verbose=0, warm_start=False)"
      ]
     },
     "execution_count": 69,
     "metadata": {},
     "output_type": "execute_result"
    }
   ],
   "source": [
    "logreg.fit(X_train,y_train)"
   ]
  },
  {
   "cell_type": "code",
   "execution_count": 70,
   "metadata": {
    "collapsed": true
   },
   "outputs": [],
   "source": [
    "train_pred = logreg.predict(X_train)"
   ]
  },
  {
   "cell_type": "code",
   "execution_count": 23,
   "metadata": {
    "collapsed": true
   },
   "outputs": [],
   "source": [
    "#Check for metric:"
   ]
  },
  {
   "cell_type": "code",
   "execution_count": 71,
   "metadata": {},
   "outputs": [
    {
     "name": "stdout",
     "output_type": "stream",
     "text": [
      "             precision    recall  f1-score   support\n",
      "\n",
      "        Bad       0.82      0.34      0.48       408\n",
      "       Good       0.91      0.99      0.95      2874\n",
      "\n",
      "avg / total       0.90      0.91      0.89      3282\n",
      "\n"
     ]
    }
   ],
   "source": [
    "print(classification_report(y_train,train_pred))   #With normalization"
   ]
  },
  {
   "cell_type": "code",
   "execution_count": 53,
   "metadata": {},
   "outputs": [
    {
     "name": "stdout",
     "output_type": "stream",
     "text": [
      "             precision    recall  f1-score   support\n",
      "\n",
      "        Bad       0.71      0.19      0.30       408\n",
      "       Good       0.90      0.99      0.94      2874\n",
      "\n",
      "avg / total       0.87      0.89      0.86      3282\n",
      "\n"
     ]
    }
   ],
   "source": [
    "print(classification_report(y_train,train_pred))  #Without normalization"
   ]
  },
  {
   "cell_type": "code",
   "execution_count": null,
   "metadata": {
    "collapsed": true
   },
   "outputs": [],
   "source": [
    "#Prediction on Validation data:"
   ]
  },
  {
   "cell_type": "code",
   "execution_count": 54,
   "metadata": {
    "collapsed": true
   },
   "outputs": [],
   "source": [
    "val_pred = logreg.predict(X_test)"
   ]
  },
  {
   "cell_type": "code",
   "execution_count": 55,
   "metadata": {},
   "outputs": [
    {
     "name": "stdout",
     "output_type": "stream",
     "text": [
      "             precision    recall  f1-score   support\n",
      "\n",
      "        Bad       0.64      0.14      0.23        49\n",
      "       Good       0.88      0.99      0.93       316\n",
      "\n",
      "avg / total       0.85      0.87      0.84       365\n",
      "\n"
     ]
    }
   ],
   "source": [
    "print(classification_report(y_test,val_pred))"
   ]
  },
  {
   "cell_type": "code",
   "execution_count": 58,
   "metadata": {},
   "outputs": [
    {
     "name": "stdout",
     "output_type": "stream",
     "text": [
      "0.873972602739726\n"
     ]
    }
   ],
   "source": [
    "print(accuracy_score(y_test, val_pred))"
   ]
  },
  {
   "cell_type": "code",
   "execution_count": null,
   "metadata": {
    "collapsed": true
   },
   "outputs": [],
   "source": [
    "#Plot of target Variable:"
   ]
  },
  {
   "cell_type": "code",
   "execution_count": 62,
   "metadata": {},
   "outputs": [
    {
     "data": {
      "image/png": "[encoded data removed]",
      "text/plain": [
       "<matplotlib.figure.Figure at 0x179c0fd0>"
      ]
     },
     "metadata": {},
     "output_type": "display_data"
    }
   ],
   "source": [
    "plt.hist(target)\n",
    "plt.title(\"Count of Machine State\")\n",
    "plt.xlabel('Machine_state')\n",
    "plt.ylabel('Count')\n",
    "plt.show()"
   ]
  },
  {
   "cell_type": "code",
   "execution_count": null,
   "metadata": {
    "collapsed": true
   },
   "outputs": [],
   "source": [
    "#Above plot shows that there is a class imbalance problem in the data and to deal with this class imbalance problem i did oversampling:"
   ]
  },
  {
   "cell_type": "code",
   "execution_count": null,
   "metadata": {
    "collapsed": true
   },
   "outputs": [],
   "source": [
    "#OverSampling:"
   ]
  },
  {
   "cell_type": "code",
   "execution_count": 74,
   "metadata": {
    "collapsed": true
   },
   "outputs": [],
   "source": [
    "sm = SMOTE(random_state=42)\n",
    "X_res, y_res = sm.fit_sample(training, target)"
   ]
  },
  {
   "cell_type": "code",
   "execution_count": 75,
   "metadata": {},
   "outputs": [
    {
     "data": {
      "text/plain": [
       "((6380, 219), (6380,))"
      ]
     },
     "execution_count": 75,
     "metadata": {},
     "output_type": "execute_result"
    }
   ],
   "source": [
    "X_res.shape,y_res.shape"
   ]
  },
  {
   "cell_type": "code",
   "execution_count": 76,
   "metadata": {
    "collapsed": true
   },
   "outputs": [],
   "source": [
    "y_res = pd.Series(y_res)"
   ]
  },
  {
   "cell_type": "code",
   "execution_count": 77,
   "metadata": {},
   "outputs": [
    {
     "data": {
      "text/plain": [
       "Good    3190\n",
       "Bad     3190\n",
       "dtype: int64"
      ]
     },
     "execution_count": 77,
     "metadata": {},
     "output_type": "execute_result"
    }
   ],
   "source": [
    "y_res.value_counts()"
   ]
  },
  {
   "cell_type": "code",
   "execution_count": 78,
   "metadata": {
    "collapsed": true
   },
   "outputs": [],
   "source": [
    "X_train_sm, X_test_sm, y_train_sm, y_test_sm = train_test_split(X_res, y_res, test_size=0.1, random_state=1234)"
   ]
  },
  {
   "cell_type": "code",
   "execution_count": 79,
   "metadata": {
    "collapsed": true
   },
   "outputs": [],
   "source": [
    "logreg_sm = LogisticRegression()"
   ]
  },
  {
   "cell_type": "code",
   "execution_count": 80,
   "metadata": {},
   "outputs": [
    {
     "data": {
      "text/plain": [
       "LogisticRegression(C=1.0, class_weight=None, dual=False, fit_intercept=True,\n",
       "          intercept_scaling=1, max_iter=100, multi_class='ovr', n_jobs=1,\n",
       "          penalty='l2', random_state=None, solver='liblinear', tol=0.0001,\n",
       "          verbose=0, warm_start=False)"
      ]
     },
     "execution_count": 80,
     "metadata": {},
     "output_type": "execute_result"
    }
   ],
   "source": [
    "logreg_sm.fit(X_train_sm,y_train_sm)"
   ]
  },
  {
   "cell_type": "code",
   "execution_count": 81,
   "metadata": {
    "collapsed": true
   },
   "outputs": [],
   "source": [
    "train_sm_pred = logreg_sm.predict(X_train_sm)"
   ]
  },
  {
   "cell_type": "code",
   "execution_count": 82,
   "metadata": {},
   "outputs": [
    {
     "name": "stdout",
     "output_type": "stream",
     "text": [
      "             precision    recall  f1-score   support\n",
      "\n",
      "        Bad       0.74      0.87      0.80      2865\n",
      "       Good       0.85      0.70      0.77      2877\n",
      "\n",
      "avg / total       0.79      0.79      0.78      5742\n",
      "\n"
     ]
    }
   ],
   "source": [
    "print(classification_report(y_train_sm,train_sm_pred))"
   ]
  },
  {
   "cell_type": "code",
   "execution_count": 83,
   "metadata": {
    "collapsed": true
   },
   "outputs": [],
   "source": [
    "val_sm_pred = logreg_sm.predict(X_test_sm)"
   ]
  },
  {
   "cell_type": "code",
   "execution_count": 84,
   "metadata": {},
   "outputs": [
    {
     "name": "stdout",
     "output_type": "stream",
     "text": [
      "             precision    recall  f1-score   support\n",
      "\n",
      "        Bad       0.75      0.84      0.79       325\n",
      "       Good       0.81      0.71      0.76       313\n",
      "\n",
      "avg / total       0.78      0.78      0.78       638\n",
      "\n"
     ]
    }
   ],
   "source": [
    "print(classification_report(y_test_sm,val_sm_pred))"
   ]
  },
  {
   "cell_type": "code",
   "execution_count": 82,
   "metadata": {},
   "outputs": [
    {
     "name": "stdout",
     "output_type": "stream",
     "text": [
      "0.780564263322884\n"
     ]
    }
   ],
   "source": [
    "print(accuracy_score(y_test_sm, val_sm_pred))"
   ]
  },
  {
   "cell_type": "code",
   "execution_count": null,
   "metadata": {
    "collapsed": true
   },
   "outputs": [],
   "source": []
  }
 ],
 "metadata": {
  "kernelspec": {
   "display_name": "Python 3",
   "language": "python",
   "name": "python3"
  },
  "language_info": {
   "codemirror_mode": {
    "name": "ipython",
    "version": 3
   },
   "file_extension": ".py",
   "mimetype": "text/x-python",
   "name": "python",
   "nbconvert_exporter": "python",
   "pygments_lexer": "ipython3",
   "version": "3.6.4"
  }
 },
 "nbformat": 4,
 "nbformat_minor": 2
}
