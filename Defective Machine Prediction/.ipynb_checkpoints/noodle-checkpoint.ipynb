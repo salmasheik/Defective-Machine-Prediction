{
 "cells": [
  {
   "cell_type": "code",
   "execution_count": 178,
   "metadata": {},
   "outputs": [],
   "source": [
    "import pandas as pd\n",
    "import numpy as np\n",
    "import seaborn as sns"
   ]
  },
  {
   "cell_type": "code",
   "execution_count": 179,
   "metadata": {},
   "outputs": [],
   "source": [
    "Train_data = pd.read_csv(\"TrainingSet.csv\")\n",
    "Test_data = pd.read_csv(\"TestingSet.csv\")"
   ]
  },
  {
   "cell_type": "code",
   "execution_count": 180,
   "metadata": {},
   "outputs": [
    {
     "name": "stdout",
     "output_type": "stream",
     "text": [
      "Train dim  (3722, 220)\n",
      "Test dim  (400, 220)\n"
     ]
    }
   ],
   "source": [
    "print(\"Train dim \" , Train_data.shape)\n",
    "print(\"Test dim \" , Test_data.shape)"
   ]
  },
  {
   "cell_type": "code",
   "execution_count": 181,
   "metadata": {},
   "outputs": [
    {
     "name": "stdout",
     "output_type": "stream",
     "text": [
      "Train datatypes  V1               float64\n",
      "V2               float64\n",
      "V3               float64\n",
      "V4               float64\n",
      "V5               float64\n",
      "V6               float64\n",
      "V7               float64\n",
      "V8               float64\n",
      "V9               float64\n",
      "V10              float64\n",
      "V11              float64\n",
      "V12              float64\n",
      "V13              float64\n",
      "V14              float64\n",
      "V15              float64\n",
      "V16              float64\n",
      "V17              float64\n",
      "V18              float64\n",
      "V19              float64\n",
      "V20              float64\n",
      "V21              float64\n",
      "V22              float64\n",
      "V23              float64\n",
      "V24              float64\n",
      "V25              float64\n",
      "V26              float64\n",
      "V27              float64\n",
      "V28              float64\n",
      "V29              float64\n",
      "V30              float64\n",
      "                  ...   \n",
      "V191             float64\n",
      "V192             float64\n",
      "V193             float64\n",
      "V194             float64\n",
      "V195             float64\n",
      "V196             float64\n",
      "V197             float64\n",
      "V198             float64\n",
      "V199             float64\n",
      "V200             float64\n",
      "V201             float64\n",
      "V202             float64\n",
      "V203             float64\n",
      "V204             float64\n",
      "V205             float64\n",
      "V206             float64\n",
      "V207             float64\n",
      "V208             float64\n",
      "V209             float64\n",
      "V210             float64\n",
      "V211             float64\n",
      "V212             float64\n",
      "V213             float64\n",
      "V214             float64\n",
      "V215             float64\n",
      "V216             float64\n",
      "V217             float64\n",
      "V218             float64\n",
      "V219             float64\n",
      "Machine_State     object\n",
      "Length: 220, dtype: object\n",
      "Test datatypes  Sl No.      int64\n",
      "V1        float64\n",
      "V2        float64\n",
      "V3        float64\n",
      "V4        float64\n",
      "V5        float64\n",
      "V6        float64\n",
      "V7        float64\n",
      "V8        float64\n",
      "V9        float64\n",
      "V10       float64\n",
      "V11       float64\n",
      "V12       float64\n",
      "V13       float64\n",
      "V14       float64\n",
      "V15       float64\n",
      "V16       float64\n",
      "V17       float64\n",
      "V18       float64\n",
      "V19       float64\n",
      "V20       float64\n",
      "V21       float64\n",
      "V22       float64\n",
      "V23       float64\n",
      "V24       float64\n",
      "V25       float64\n",
      "V26       float64\n",
      "V27       float64\n",
      "V28       float64\n",
      "V29       float64\n",
      "           ...   \n",
      "V190      float64\n",
      "V191      float64\n",
      "V192      float64\n",
      "V193      float64\n",
      "V194      float64\n",
      "V195      float64\n",
      "V196      float64\n",
      "V197      float64\n",
      "V198      float64\n",
      "V199        int64\n",
      "V200      float64\n",
      "V201      float64\n",
      "V202      float64\n",
      "V203      float64\n",
      "V204      float64\n",
      "V205      float64\n",
      "V206      float64\n",
      "V207      float64\n",
      "V208      float64\n",
      "V209      float64\n",
      "V210      float64\n",
      "V211      float64\n",
      "V212      float64\n",
      "V213      float64\n",
      "V214      float64\n",
      "V215      float64\n",
      "V216      float64\n",
      "V217      float64\n",
      "V218      float64\n",
      "V219      float64\n",
      "Length: 220, dtype: object\n"
     ]
    }
   ],
   "source": [
    "print(\"Train datatypes \" , Train_data.dtypes)\n",
    "print(\"Test datatypes \" , Test_data.dtypes)"
   ]
  },
  {
   "cell_type": "code",
   "execution_count": 182,
   "metadata": {},
   "outputs": [],
   "source": [
    "Train_data.Machine_State = Train_data.Machine_State.astype('category')"
   ]
  },
  {
   "cell_type": "code",
   "execution_count": 183,
   "metadata": {},
   "outputs": [
    {
     "name": "stdout",
     "output_type": "stream",
     "text": [
      "Good    3240\n",
      "Bad      463\n",
      "Name: Machine_State, dtype: int64\n"
     ]
    }
   ],
   "source": [
    "print(pd.value_counts(Train_data['Machine_State']))"
   ]
  },
  {
   "cell_type": "code",
   "execution_count": 184,
   "metadata": {},
   "outputs": [
    {
     "data": {
      "image/png": "[encoded data removed]",
      "text/plain": [
       "<matplotlib.figure.Figure at 0x1f7510a6eb8>"
      ]
     },
     "metadata": {},
     "output_type": "display_data"
    },
    {
     "data": {
      "text/plain": [
       "<matplotlib.figure.Figure at 0x1f75109c0f0>"
      ]
     },
     "metadata": {},
     "output_type": "display_data"
    }
   ],
   "source": [
    "sns.countplot(x='Machine_State', data =Train_data,palette= 'hls')\n",
    "plt.show()\n",
    "plt.savefig('count_plot')"
   ]
  },
  {
   "cell_type": "code",
   "execution_count": 185,
   "metadata": {},
   "outputs": [
    {
     "data": {
      "text/plain": [
       "V1               56\n",
       "V8               56\n",
       "V15              56\n",
       "V22              56\n",
       "V29              56\n",
       "V36              56\n",
       "V43              56\n",
       "V50              56\n",
       "V57              56\n",
       "V64              56\n",
       "V71              56\n",
       "V78              56\n",
       "V85              56\n",
       "V92              56\n",
       "V99              56\n",
       "V106             56\n",
       "V113             56\n",
       "V120             56\n",
       "V127             56\n",
       "V134             56\n",
       "V141             56\n",
       "V148             56\n",
       "V155             56\n",
       "V162             56\n",
       "V169             56\n",
       "V176             56\n",
       "V183             56\n",
       "V190             56\n",
       "V197             56\n",
       "V205             56\n",
       "V213             56\n",
       "Machine_State    19\n",
       "dtype: int64"
      ]
     },
     "execution_count": 185,
     "metadata": {},
     "output_type": "execute_result"
    }
   ],
   "source": [
    "null_columns=Train_data.columns[Train_data.isnull().any()]\n",
    "Train_data[null_columns].isnull().sum()"
   ]
  },
  {
   "cell_type": "code",
   "execution_count": 186,
   "metadata": {},
   "outputs": [],
   "source": [
    "Train_imputedSet=  Train_data.fillna(Train_data.mean())"
   ]
  },
  {
   "cell_type": "code",
   "execution_count": 190,
   "metadata": {},
   "outputs": [
    {
     "data": {
      "text/plain": [
       "Series([], dtype: float64)"
      ]
     },
     "execution_count": 190,
     "metadata": {},
     "output_type": "execute_result"
    }
   ],
   "source": [
    "null_columns=Train_imputedSet.columns[Train_imputedSet.isnull().any()]\n",
    "Train_imputedSet[null_columns].isnull().sum()"
   ]
  },
  {
   "cell_type": "code",
   "execution_count": 188,
   "metadata": {},
   "outputs": [],
   "source": [
    "Train_imputedSet['Machine_State'].fillna('Bad', inplace=True)"
   ]
  },
  {
   "cell_type": "code",
   "execution_count": 189,
   "metadata": {},
   "outputs": [],
   "source": [
    "Train_imputedSet.to_csv(\"Imputed_DataSet.csv\", index=False)"
   ]
  },
  {
   "cell_type": "code",
   "execution_count": 191,
   "metadata": {},
   "outputs": [
    {
     "name": "stdout",
     "output_type": "stream",
     "text": [
      "(3722, 220)\n"
     ]
    }
   ],
   "source": [
    "print(Train_imputedSet.shape)"
   ]
  },
  {
   "cell_type": "code",
   "execution_count": 192,
   "metadata": {},
   "outputs": [],
   "source": [
    "from sklearn.decomposition import PCA\n",
    "from sklearn.linear_model import LogisticRegression\n",
    "from sklearn.pipeline import Pipeline\n",
    "from sklearn import preprocessing"
   ]
  },
  {
   "cell_type": "code",
   "execution_count": 193,
   "metadata": {},
   "outputs": [
    {
     "name": "stdout",
     "output_type": "stream",
     "text": [
      "Index(['V1', 'V2', 'V3', 'V4', 'V5', 'V6', 'V7', 'V8', 'V9', 'V10',\n",
      "       ...\n",
      "       'V210', 'V211', 'V212', 'V213', 'V214', 'V215', 'V216', 'V217', 'V218',\n",
      "       'V219'],\n",
      "      dtype='object', length=219)\n"
     ]
    }
   ],
   "source": [
    "#standardizing numerical variables\n",
    "X = Train_imputedSet.loc[:,Train_imputedSet.columns != 'Machine_State']\n",
    "Y = Train_imputedSet.loc[:,Train_imputedSet.columns == 'Machine_State']\n",
    "print(X.columns)    "
   ]
  },
  {
   "cell_type": "code",
   "execution_count": 194,
   "metadata": {},
   "outputs": [],
   "source": [
    "# normalize the data attributes\n",
    "normalized_X = preprocessing.normalize(X)"
   ]
  },
  {
   "cell_type": "code",
   "execution_count": 195,
   "metadata": {},
   "outputs": [
    {
     "data": {
      "text/plain": [
       "array([[ 5.78880640e-06,  1.11381774e-04,  1.08432662e-04, ...,\n",
       "         0.00000000e+00,  0.00000000e+00,  0.00000000e+00],\n",
       "       [ 1.18330771e-05,  2.61904155e-04,  2.54898119e-04, ...,\n",
       "         0.00000000e+00,  0.00000000e+00,  0.00000000e+00],\n",
       "       [ 0.00000000e+00,  4.30239458e-04,  8.72590900e-06, ...,\n",
       "         0.00000000e+00,  0.00000000e+00,  0.00000000e+00],\n",
       "       ...,\n",
       "       [ 7.33786980e-06,  5.27231692e-04,  2.44595660e-05, ...,\n",
       "         1.07165512e-06,  7.19689455e-04, -2.79617845e-06],\n",
       "       [ 0.00000000e+00,  6.10267386e-04,  1.99992706e-06, ...,\n",
       "         1.06187125e-06,  2.44917721e-04, -1.17114871e-06],\n",
       "       [ 0.00000000e+00,  7.40016406e-04,  3.12667438e-06, ...,\n",
       "         2.53931438e-06, -3.01324681e-04, -6.65518194e-06]])"
      ]
     },
     "execution_count": 195,
     "metadata": {},
     "output_type": "execute_result"
    }
   ],
   "source": [
    "normalized_X"
   ]
  },
  {
   "cell_type": "code",
   "execution_count": 196,
   "metadata": {},
   "outputs": [],
   "source": [
    "#other way\n",
    "def standardization(x): #Define function to standardize the data, since all variables are not in the same units\n",
    "    xmean = np.mean(x) ##calculate mean\n",
    "    sd = np.std(x) ##calculate standard deviation \n",
    "    x_z = (x - xmean) / sd ##calculate standardized value to return\n",
    "    return(x_z)"
   ]
  },
  {
   "cell_type": "code",
   "execution_count": 197,
   "metadata": {},
   "outputs": [],
   "source": [
    "data_stnd = X.apply(standardization,broadcast = True)"
   ]
  },
  {
   "cell_type": "code",
   "execution_count": 199,
   "metadata": {},
   "outputs": [
    {
     "data": {
      "text/html": [
       "<div>\n",
       "<style scoped>\n",
       "    .dataframe tbody tr th:only-of-type {\n",
       "        vertical-align: middle;\n",
       "    }\n",
       "\n",
       "    .dataframe tbody tr th {\n",
       "        vertical-align: top;\n",
       "    }\n",
       "\n",
       "    .dataframe thead th {\n",
       "        text-align: right;\n",
       "    }\n",
       "</style>\n",
       "<table border=\"1\" class=\"dataframe\">\n",
       "  <thead>\n",
       "    <tr style=\"text-align: right;\">\n",
       "      <th></th>\n",
       "      <th>V1</th>\n",
       "      <th>V2</th>\n",
       "      <th>V3</th>\n",
       "      <th>V4</th>\n",
       "      <th>V5</th>\n",
       "      <th>V6</th>\n",
       "      <th>V7</th>\n",
       "      <th>V8</th>\n",
       "      <th>V9</th>\n",
       "      <th>V10</th>\n",
       "      <th>...</th>\n",
       "      <th>V210</th>\n",
       "      <th>V211</th>\n",
       "      <th>V212</th>\n",
       "      <th>V213</th>\n",
       "      <th>V214</th>\n",
       "      <th>V215</th>\n",
       "      <th>V216</th>\n",
       "      <th>V217</th>\n",
       "      <th>V218</th>\n",
       "      <th>V219</th>\n",
       "    </tr>\n",
       "  </thead>\n",
       "  <tbody>\n",
       "    <tr>\n",
       "      <th>0</th>\n",
       "      <td>-9.724816e-16</td>\n",
       "      <td>-0.539657</td>\n",
       "      <td>2.377825</td>\n",
       "      <td>-0.608435</td>\n",
       "      <td>-0.808490</td>\n",
       "      <td>-0.539679</td>\n",
       "      <td>-0.783866</td>\n",
       "      <td>-2.245872e-16</td>\n",
       "      <td>-0.547319</td>\n",
       "      <td>2.378629</td>\n",
       "      <td>...</td>\n",
       "      <td>-0.272259</td>\n",
       "      <td>0.167293</td>\n",
       "      <td>-2.386787</td>\n",
       "      <td>-9.590131e-17</td>\n",
       "      <td>-0.271662</td>\n",
       "      <td>0.053714</td>\n",
       "      <td>-0.513027</td>\n",
       "      <td>-0.752642</td>\n",
       "      <td>-0.271657</td>\n",
       "      <td>-0.013184</td>\n",
       "    </tr>\n",
       "    <tr>\n",
       "      <th>1</th>\n",
       "      <td>-9.724816e-16</td>\n",
       "      <td>-0.485285</td>\n",
       "      <td>2.804686</td>\n",
       "      <td>-0.569410</td>\n",
       "      <td>-0.807624</td>\n",
       "      <td>-0.485300</td>\n",
       "      <td>-0.783866</td>\n",
       "      <td>-2.245872e-16</td>\n",
       "      <td>-0.491800</td>\n",
       "      <td>2.805601</td>\n",
       "      <td>...</td>\n",
       "      <td>-0.272259</td>\n",
       "      <td>0.167293</td>\n",
       "      <td>-2.386787</td>\n",
       "      <td>-9.590131e-17</td>\n",
       "      <td>-0.271662</td>\n",
       "      <td>0.053714</td>\n",
       "      <td>-0.513027</td>\n",
       "      <td>-0.752642</td>\n",
       "      <td>-0.271657</td>\n",
       "      <td>-0.013184</td>\n",
       "    </tr>\n",
       "    <tr>\n",
       "      <th>2</th>\n",
       "      <td>-3.597135e-01</td>\n",
       "      <td>-0.250287</td>\n",
       "      <td>-0.361199</td>\n",
       "      <td>-0.201680</td>\n",
       "      <td>-0.125921</td>\n",
       "      <td>-0.250274</td>\n",
       "      <td>-0.051123</td>\n",
       "      <td>-3.595419e-01</td>\n",
       "      <td>-0.251846</td>\n",
       "      <td>-0.361111</td>\n",
       "      <td>...</td>\n",
       "      <td>-0.272259</td>\n",
       "      <td>0.167293</td>\n",
       "      <td>-2.386787</td>\n",
       "      <td>-2.420243e-01</td>\n",
       "      <td>-0.271662</td>\n",
       "      <td>0.053714</td>\n",
       "      <td>-0.513027</td>\n",
       "      <td>-0.752642</td>\n",
       "      <td>-0.271657</td>\n",
       "      <td>-0.013184</td>\n",
       "    </tr>\n",
       "    <tr>\n",
       "      <th>3</th>\n",
       "      <td>-9.861791e-02</td>\n",
       "      <td>0.383726</td>\n",
       "      <td>0.350236</td>\n",
       "      <td>0.110515</td>\n",
       "      <td>-0.226018</td>\n",
       "      <td>0.383814</td>\n",
       "      <td>0.036154</td>\n",
       "      <td>-9.825044e-02</td>\n",
       "      <td>0.395538</td>\n",
       "      <td>0.350509</td>\n",
       "      <td>...</td>\n",
       "      <td>-0.272259</td>\n",
       "      <td>0.167293</td>\n",
       "      <td>-2.386787</td>\n",
       "      <td>-2.420243e-01</td>\n",
       "      <td>-0.271662</td>\n",
       "      <td>0.053714</td>\n",
       "      <td>-0.513027</td>\n",
       "      <td>-0.752642</td>\n",
       "      <td>-0.271657</td>\n",
       "      <td>-0.013184</td>\n",
       "    </tr>\n",
       "    <tr>\n",
       "      <th>4</th>\n",
       "      <td>-9.861791e-02</td>\n",
       "      <td>0.622795</td>\n",
       "      <td>0.350236</td>\n",
       "      <td>0.367178</td>\n",
       "      <td>0.266686</td>\n",
       "      <td>0.622912</td>\n",
       "      <td>0.446969</td>\n",
       "      <td>-9.825044e-02</td>\n",
       "      <td>0.639649</td>\n",
       "      <td>0.350509</td>\n",
       "      <td>...</td>\n",
       "      <td>-0.272259</td>\n",
       "      <td>0.167293</td>\n",
       "      <td>-2.386787</td>\n",
       "      <td>-2.420243e-01</td>\n",
       "      <td>-0.271662</td>\n",
       "      <td>0.053714</td>\n",
       "      <td>-0.513027</td>\n",
       "      <td>-0.752642</td>\n",
       "      <td>-0.271657</td>\n",
       "      <td>-0.013184</td>\n",
       "    </tr>\n",
       "  </tbody>\n",
       "</table>\n",
       "<p>5 rows × 219 columns</p>\n",
       "</div>"
      ],
      "text/plain": [
       "             V1        V2        V3        V4        V5        V6        V7  \\\n",
       "0 -9.724816e-16 -0.539657  2.377825 -0.608435 -0.808490 -0.539679 -0.783866   \n",
       "1 -9.724816e-16 -0.485285  2.804686 -0.569410 -0.807624 -0.485300 -0.783866   \n",
       "2 -3.597135e-01 -0.250287 -0.361199 -0.201680 -0.125921 -0.250274 -0.051123   \n",
       "3 -9.861791e-02  0.383726  0.350236  0.110515 -0.226018  0.383814  0.036154   \n",
       "4 -9.861791e-02  0.622795  0.350236  0.367178  0.266686  0.622912  0.446969   \n",
       "\n",
       "             V8        V9       V10    ...         V210      V211      V212  \\\n",
       "0 -2.245872e-16 -0.547319  2.378629    ...    -0.272259  0.167293 -2.386787   \n",
       "1 -2.245872e-16 -0.491800  2.805601    ...    -0.272259  0.167293 -2.386787   \n",
       "2 -3.595419e-01 -0.251846 -0.361111    ...    -0.272259  0.167293 -2.386787   \n",
       "3 -9.825044e-02  0.395538  0.350509    ...    -0.272259  0.167293 -2.386787   \n",
       "4 -9.825044e-02  0.639649  0.350509    ...    -0.272259  0.167293 -2.386787   \n",
       "\n",
       "           V213      V214      V215      V216      V217      V218      V219  \n",
       "0 -9.590131e-17 -0.271662  0.053714 -0.513027 -0.752642 -0.271657 -0.013184  \n",
       "1 -9.590131e-17 -0.271662  0.053714 -0.513027 -0.752642 -0.271657 -0.013184  \n",
       "2 -2.420243e-01 -0.271662  0.053714 -0.513027 -0.752642 -0.271657 -0.013184  \n",
       "3 -2.420243e-01 -0.271662  0.053714 -0.513027 -0.752642 -0.271657 -0.013184  \n",
       "4 -2.420243e-01 -0.271662  0.053714 -0.513027 -0.752642 -0.271657 -0.013184  \n",
       "\n",
       "[5 rows x 219 columns]"
      ]
     },
     "execution_count": 199,
     "metadata": {},
     "output_type": "execute_result"
    }
   ],
   "source": [
    "data_stnd.head(5)"
   ]
  },
  {
   "cell_type": "code",
   "execution_count": 200,
   "metadata": {},
   "outputs": [],
   "source": [
    "train_X = data_stnd"
   ]
  },
  {
   "cell_type": "code",
   "execution_count": 201,
   "metadata": {},
   "outputs": [],
   "source": [
    "pca = PCA() #empty model space"
   ]
  },
  {
   "cell_type": "code",
   "execution_count": 202,
   "metadata": {},
   "outputs": [],
   "source": [
    "pcafit = pca.fit_transform(train_X,Y) ##apply dimensionality reduction to X"
   ]
  },
  {
   "cell_type": "code",
   "execution_count": 203,
   "metadata": {},
   "outputs": [
    {
     "name": "stdout",
     "output_type": "stream",
     "text": [
      "0      2.617145e-01\n",
      "1      1.025087e-01\n",
      "2      6.244620e-02\n",
      "3      5.607995e-02\n",
      "4      4.958311e-02\n",
      "5      3.922868e-02\n",
      "6      3.528924e-02\n",
      "7      3.337395e-02\n",
      "8      2.827104e-02\n",
      "9      2.557895e-02\n",
      "10     2.189369e-02\n",
      "11     2.044972e-02\n",
      "12     1.822531e-02\n",
      "13     1.644394e-02\n",
      "14     1.504478e-02\n",
      "15     1.321882e-02\n",
      "16     1.298791e-02\n",
      "17     1.178030e-02\n",
      "18     1.153318e-02\n",
      "19     1.080381e-02\n",
      "20     1.034056e-02\n",
      "21     9.369755e-03\n",
      "22     8.552792e-03\n",
      "23     8.413469e-03\n",
      "24     7.888834e-03\n",
      "25     7.376480e-03\n",
      "26     6.459676e-03\n",
      "27     5.696815e-03\n",
      "28     5.369959e-03\n",
      "29     5.005416e-03\n",
      "           ...     \n",
      "189    4.014162e-13\n",
      "190    3.442584e-13\n",
      "191    1.587823e-13\n",
      "192    1.441169e-13\n",
      "193    5.899855e-14\n",
      "194    4.657158e-14\n",
      "195    4.135646e-14\n",
      "196    1.628500e-14\n",
      "197    9.041334e-15\n",
      "198    8.007899e-15\n",
      "199    2.850394e-15\n",
      "200    1.777293e-15\n",
      "201    1.036313e-22\n",
      "202    4.835454e-25\n",
      "203    1.292198e-27\n",
      "204    6.293956e-33\n",
      "205    1.381949e-33\n",
      "206    1.381949e-33\n",
      "207    1.381949e-33\n",
      "208    1.381949e-33\n",
      "209    1.381949e-33\n",
      "210    1.381949e-33\n",
      "211    1.381949e-33\n",
      "212    1.381949e-33\n",
      "213    1.381949e-33\n",
      "214    1.381949e-33\n",
      "215    1.381949e-33\n",
      "216    1.381949e-33\n",
      "217    1.381949e-33\n",
      "218    3.026017e-34\n",
      "Length: 219, dtype: float64\n"
     ]
    }
   ],
   "source": [
    "var_explained = pca.explained_variance_ratio_ #ratio of variance each PC explains\n",
    "print(pd.Series(var_explained))\n"
   ]
  },
  {
   "cell_type": "code",
   "execution_count": 204,
   "metadata": {},
   "outputs": [
    {
     "name": "stdout",
     "output_type": "stream",
     "text": [
      "0.9883470617729884\n"
     ]
    }
   ],
   "source": [
    "print(sum(var_explained[0:60]))\n",
    "##indeed,the first 60 PCs explain 98% of the variance"
   ]
  },
  {
   "cell_type": "code",
   "execution_count": 205,
   "metadata": {},
   "outputs": [
    {
     "name": "stdout",
     "output_type": "stream",
     "text": [
      "[26.17 36.42 42.66 48.27 53.23 57.15 60.68 64.02 66.85 69.41 71.6  73.64\n",
      " 75.46 77.1  78.6  79.92 81.22 82.4  83.55 84.63 85.66 86.6  87.46 88.3\n",
      " 89.09 89.83 90.48 91.05 91.59 92.09 92.57 93.05 93.51 93.92 94.29 94.64\n",
      " 94.96 95.24 95.52 95.79 96.05 96.3  96.54 96.75 96.95 97.14 97.31 97.47\n",
      " 97.63 97.78 97.92 98.05 98.17 98.29 98.4  98.5  98.58 98.66 98.74 98.82\n",
      " 98.89 98.96 99.02 99.08 99.14 99.19 99.24 99.28 99.32 99.36 99.4  99.44\n",
      " 99.47 99.5  99.53 99.56 99.59 99.62 99.64 99.66 99.68 99.7  99.72 99.74\n",
      " 99.76 99.77 99.78 99.79 99.8  99.81 99.82 99.83 99.84 99.85 99.86 99.87\n",
      " 99.88 99.89 99.9  99.91 99.92 99.93 99.93 99.93 99.93 99.93 99.93 99.93\n",
      " 99.93 99.93 99.93 99.93 99.93 99.93 99.93 99.93 99.93 99.93 99.93 99.93\n",
      " 99.93 99.93 99.93 99.93 99.93 99.93 99.93 99.93 99.93 99.93 99.93 99.93\n",
      " 99.93 99.93 99.93 99.93 99.93 99.93 99.93 99.93 99.93 99.93 99.93 99.93\n",
      " 99.93 99.93 99.93 99.93 99.93 99.93 99.93 99.93 99.93 99.93 99.93 99.93\n",
      " 99.93 99.93 99.93 99.93 99.93 99.93 99.93 99.93 99.93 99.93 99.93 99.93\n",
      " 99.93 99.93 99.93 99.93 99.93 99.93 99.93 99.93 99.93 99.93 99.93 99.93\n",
      " 99.93 99.93 99.93 99.93 99.93 99.93 99.93 99.93 99.93 99.93 99.93 99.93\n",
      " 99.93 99.93 99.93 99.93 99.93 99.93 99.93 99.93 99.93 99.93 99.93 99.93\n",
      " 99.93 99.93 99.93 99.93 99.93 99.93 99.93 99.93 99.93 99.93 99.93 99.93\n",
      " 99.93 99.93 99.93]\n"
     ]
    },
    {
     "data": {
      "text/plain": [
       "[<matplotlib.lines.Line2D at 0x1f74fb1c240>]"
      ]
     },
     "execution_count": 205,
     "metadata": {},
     "output_type": "execute_result"
    },
    {
     "data": {
      "image/png": "[encoded data removed]",
      "text/plain": [
       "<matplotlib.figure.Figure at 0x1f74cfb2240>"
      ]
     },
     "metadata": {},
     "output_type": "display_data"
    }
   ],
   "source": [
    "#The amount of variance that each PC explains\n",
    "var= pca.explained_variance_ratio_\n",
    "\n",
    "#Cumulative Variance explains\n",
    "var1=np.cumsum(np.round(pca.explained_variance_ratio_, decimals=4)*100)\n",
    "print(var1)\n",
    "\n",
    "\n",
    "import matplotlib.pyplot as plt\n",
    "%matplotlib inline\n",
    "plt.plot(var1)"
   ]
  },
  {
   "cell_type": "code",
   "execution_count": 206,
   "metadata": {},
   "outputs": [],
   "source": [
    "pca1 = PCA(n_components = 60) #only include first 60 components"
   ]
  },
  {
   "cell_type": "code",
   "execution_count": 207,
   "metadata": {},
   "outputs": [],
   "source": [
    "principalComponents = pca1.fit_transform(train_X)"
   ]
  },
  {
   "cell_type": "code",
   "execution_count": 208,
   "metadata": {},
   "outputs": [
    {
     "data": {
      "text/html": [
       "<div>\n",
       "<style scoped>\n",
       "    .dataframe tbody tr th:only-of-type {\n",
       "        vertical-align: middle;\n",
       "    }\n",
       "\n",
       "    .dataframe tbody tr th {\n",
       "        vertical-align: top;\n",
       "    }\n",
       "\n",
       "    .dataframe thead th {\n",
       "        text-align: right;\n",
       "    }\n",
       "</style>\n",
       "<table border=\"1\" class=\"dataframe\">\n",
       "  <thead>\n",
       "    <tr style=\"text-align: right;\">\n",
       "      <th></th>\n",
       "      <th>0</th>\n",
       "      <th>1</th>\n",
       "      <th>2</th>\n",
       "      <th>3</th>\n",
       "      <th>4</th>\n",
       "      <th>5</th>\n",
       "      <th>6</th>\n",
       "      <th>7</th>\n",
       "      <th>8</th>\n",
       "      <th>9</th>\n",
       "      <th>...</th>\n",
       "      <th>50</th>\n",
       "      <th>51</th>\n",
       "      <th>52</th>\n",
       "      <th>53</th>\n",
       "      <th>54</th>\n",
       "      <th>55</th>\n",
       "      <th>56</th>\n",
       "      <th>57</th>\n",
       "      <th>58</th>\n",
       "      <th>59</th>\n",
       "    </tr>\n",
       "  </thead>\n",
       "  <tbody>\n",
       "    <tr>\n",
       "      <th>0</th>\n",
       "      <td>-4.661726</td>\n",
       "      <td>2.073207</td>\n",
       "      <td>2.085037</td>\n",
       "      <td>-1.126915</td>\n",
       "      <td>2.546676</td>\n",
       "      <td>0.667905</td>\n",
       "      <td>-2.151944</td>\n",
       "      <td>-1.794268</td>\n",
       "      <td>-0.094643</td>\n",
       "      <td>-0.425403</td>\n",
       "      <td>...</td>\n",
       "      <td>0.124175</td>\n",
       "      <td>0.608668</td>\n",
       "      <td>-0.379207</td>\n",
       "      <td>0.330209</td>\n",
       "      <td>-0.495572</td>\n",
       "      <td>0.231462</td>\n",
       "      <td>0.205708</td>\n",
       "      <td>-0.142988</td>\n",
       "      <td>0.142021</td>\n",
       "      <td>-0.204101</td>\n",
       "    </tr>\n",
       "    <tr>\n",
       "      <th>1</th>\n",
       "      <td>-4.260259</td>\n",
       "      <td>1.924483</td>\n",
       "      <td>2.774096</td>\n",
       "      <td>-0.657981</td>\n",
       "      <td>2.790679</td>\n",
       "      <td>0.702253</td>\n",
       "      <td>-3.378585</td>\n",
       "      <td>-3.115021</td>\n",
       "      <td>-0.514372</td>\n",
       "      <td>-0.291329</td>\n",
       "      <td>...</td>\n",
       "      <td>-0.416775</td>\n",
       "      <td>0.370676</td>\n",
       "      <td>0.150893</td>\n",
       "      <td>0.006993</td>\n",
       "      <td>-0.683962</td>\n",
       "      <td>0.087560</td>\n",
       "      <td>0.243643</td>\n",
       "      <td>0.168526</td>\n",
       "      <td>-0.102317</td>\n",
       "      <td>-0.134603</td>\n",
       "    </tr>\n",
       "    <tr>\n",
       "      <th>2</th>\n",
       "      <td>-1.625622</td>\n",
       "      <td>-0.682619</td>\n",
       "      <td>2.207514</td>\n",
       "      <td>1.811099</td>\n",
       "      <td>-1.139696</td>\n",
       "      <td>-1.070778</td>\n",
       "      <td>-2.170840</td>\n",
       "      <td>-1.462017</td>\n",
       "      <td>-0.590316</td>\n",
       "      <td>0.083536</td>\n",
       "      <td>...</td>\n",
       "      <td>-0.357861</td>\n",
       "      <td>0.000628</td>\n",
       "      <td>-0.208676</td>\n",
       "      <td>0.162476</td>\n",
       "      <td>-0.522599</td>\n",
       "      <td>0.523000</td>\n",
       "      <td>0.443704</td>\n",
       "      <td>-0.208589</td>\n",
       "      <td>0.274352</td>\n",
       "      <td>-0.000162</td>\n",
       "    </tr>\n",
       "    <tr>\n",
       "      <th>3</th>\n",
       "      <td>2.574787</td>\n",
       "      <td>0.849139</td>\n",
       "      <td>2.778080</td>\n",
       "      <td>-0.930590</td>\n",
       "      <td>0.416812</td>\n",
       "      <td>0.075047</td>\n",
       "      <td>-1.959641</td>\n",
       "      <td>-1.471360</td>\n",
       "      <td>-0.881654</td>\n",
       "      <td>-0.170982</td>\n",
       "      <td>...</td>\n",
       "      <td>-0.472161</td>\n",
       "      <td>-0.601627</td>\n",
       "      <td>-0.108777</td>\n",
       "      <td>0.359884</td>\n",
       "      <td>0.125593</td>\n",
       "      <td>0.131382</td>\n",
       "      <td>0.215117</td>\n",
       "      <td>0.076574</td>\n",
       "      <td>-0.303114</td>\n",
       "      <td>-0.058066</td>\n",
       "    </tr>\n",
       "    <tr>\n",
       "      <th>4</th>\n",
       "      <td>4.879497</td>\n",
       "      <td>0.914712</td>\n",
       "      <td>1.804707</td>\n",
       "      <td>-0.338086</td>\n",
       "      <td>-0.443130</td>\n",
       "      <td>0.293903</td>\n",
       "      <td>-1.989565</td>\n",
       "      <td>-0.963500</td>\n",
       "      <td>-1.122149</td>\n",
       "      <td>-0.493012</td>\n",
       "      <td>...</td>\n",
       "      <td>-0.589380</td>\n",
       "      <td>-0.627635</td>\n",
       "      <td>-0.161964</td>\n",
       "      <td>0.414704</td>\n",
       "      <td>0.102017</td>\n",
       "      <td>0.252251</td>\n",
       "      <td>0.350766</td>\n",
       "      <td>0.119647</td>\n",
       "      <td>-0.116958</td>\n",
       "      <td>-0.062076</td>\n",
       "    </tr>\n",
       "  </tbody>\n",
       "</table>\n",
       "<p>5 rows × 60 columns</p>\n",
       "</div>"
      ],
      "text/plain": [
       "         0         1         2         3         4         5         6   \\\n",
       "0 -4.661726  2.073207  2.085037 -1.126915  2.546676  0.667905 -2.151944   \n",
       "1 -4.260259  1.924483  2.774096 -0.657981  2.790679  0.702253 -3.378585   \n",
       "2 -1.625622 -0.682619  2.207514  1.811099 -1.139696 -1.070778 -2.170840   \n",
       "3  2.574787  0.849139  2.778080 -0.930590  0.416812  0.075047 -1.959641   \n",
       "4  4.879497  0.914712  1.804707 -0.338086 -0.443130  0.293903 -1.989565   \n",
       "\n",
       "         7         8         9     ...           50        51        52  \\\n",
       "0 -1.794268 -0.094643 -0.425403    ...     0.124175  0.608668 -0.379207   \n",
       "1 -3.115021 -0.514372 -0.291329    ...    -0.416775  0.370676  0.150893   \n",
       "2 -1.462017 -0.590316  0.083536    ...    -0.357861  0.000628 -0.208676   \n",
       "3 -1.471360 -0.881654 -0.170982    ...    -0.472161 -0.601627 -0.108777   \n",
       "4 -0.963500 -1.122149 -0.493012    ...    -0.589380 -0.627635 -0.161964   \n",
       "\n",
       "         53        54        55        56        57        58        59  \n",
       "0  0.330209 -0.495572  0.231462  0.205708 -0.142988  0.142021 -0.204101  \n",
       "1  0.006993 -0.683962  0.087560  0.243643  0.168526 -0.102317 -0.134603  \n",
       "2  0.162476 -0.522599  0.523000  0.443704 -0.208589  0.274352 -0.000162  \n",
       "3  0.359884  0.125593  0.131382  0.215117  0.076574 -0.303114 -0.058066  \n",
       "4  0.414704  0.102017  0.252251  0.350766  0.119647 -0.116958 -0.062076  \n",
       "\n",
       "[5 rows x 60 columns]"
      ]
     },
     "execution_count": 208,
     "metadata": {},
     "output_type": "execute_result"
    }
   ],
   "source": [
    "principalDf = pd.DataFrame(data = principalComponents)\n",
    "principalDf.head(5)"
   ]
  },
  {
   "cell_type": "code",
   "execution_count": 209,
   "metadata": {},
   "outputs": [],
   "source": [
    " principalDf = principalDf.add_prefix('V')"
   ]
  },
  {
   "cell_type": "code",
   "execution_count": 210,
   "metadata": {},
   "outputs": [
    {
     "data": {
      "text/html": [
       "<div>\n",
       "<style scoped>\n",
       "    .dataframe tbody tr th:only-of-type {\n",
       "        vertical-align: middle;\n",
       "    }\n",
       "\n",
       "    .dataframe tbody tr th {\n",
       "        vertical-align: top;\n",
       "    }\n",
       "\n",
       "    .dataframe thead th {\n",
       "        text-align: right;\n",
       "    }\n",
       "</style>\n",
       "<table border=\"1\" class=\"dataframe\">\n",
       "  <thead>\n",
       "    <tr style=\"text-align: right;\">\n",
       "      <th></th>\n",
       "      <th>V0</th>\n",
       "      <th>V1</th>\n",
       "      <th>V2</th>\n",
       "      <th>V3</th>\n",
       "      <th>V4</th>\n",
       "      <th>V5</th>\n",
       "      <th>V6</th>\n",
       "      <th>V7</th>\n",
       "      <th>V8</th>\n",
       "      <th>V9</th>\n",
       "      <th>...</th>\n",
       "      <th>V51</th>\n",
       "      <th>V52</th>\n",
       "      <th>V53</th>\n",
       "      <th>V54</th>\n",
       "      <th>V55</th>\n",
       "      <th>V56</th>\n",
       "      <th>V57</th>\n",
       "      <th>V58</th>\n",
       "      <th>V59</th>\n",
       "      <th>Machine_State</th>\n",
       "    </tr>\n",
       "  </thead>\n",
       "  <tbody>\n",
       "    <tr>\n",
       "      <th>0</th>\n",
       "      <td>-4.661726</td>\n",
       "      <td>2.073207</td>\n",
       "      <td>2.085037</td>\n",
       "      <td>-1.126915</td>\n",
       "      <td>2.546676</td>\n",
       "      <td>0.667905</td>\n",
       "      <td>-2.151944</td>\n",
       "      <td>-1.794268</td>\n",
       "      <td>-0.094643</td>\n",
       "      <td>-0.425403</td>\n",
       "      <td>...</td>\n",
       "      <td>0.608668</td>\n",
       "      <td>-0.379207</td>\n",
       "      <td>0.330209</td>\n",
       "      <td>-0.495572</td>\n",
       "      <td>0.231462</td>\n",
       "      <td>0.205708</td>\n",
       "      <td>-0.142988</td>\n",
       "      <td>0.142021</td>\n",
       "      <td>-0.204101</td>\n",
       "      <td>Good</td>\n",
       "    </tr>\n",
       "    <tr>\n",
       "      <th>1</th>\n",
       "      <td>-4.260259</td>\n",
       "      <td>1.924483</td>\n",
       "      <td>2.774096</td>\n",
       "      <td>-0.657981</td>\n",
       "      <td>2.790679</td>\n",
       "      <td>0.702253</td>\n",
       "      <td>-3.378585</td>\n",
       "      <td>-3.115021</td>\n",
       "      <td>-0.514372</td>\n",
       "      <td>-0.291329</td>\n",
       "      <td>...</td>\n",
       "      <td>0.370676</td>\n",
       "      <td>0.150893</td>\n",
       "      <td>0.006993</td>\n",
       "      <td>-0.683962</td>\n",
       "      <td>0.087560</td>\n",
       "      <td>0.243643</td>\n",
       "      <td>0.168526</td>\n",
       "      <td>-0.102317</td>\n",
       "      <td>-0.134603</td>\n",
       "      <td>Good</td>\n",
       "    </tr>\n",
       "    <tr>\n",
       "      <th>2</th>\n",
       "      <td>-1.625622</td>\n",
       "      <td>-0.682619</td>\n",
       "      <td>2.207514</td>\n",
       "      <td>1.811099</td>\n",
       "      <td>-1.139696</td>\n",
       "      <td>-1.070778</td>\n",
       "      <td>-2.170840</td>\n",
       "      <td>-1.462017</td>\n",
       "      <td>-0.590316</td>\n",
       "      <td>0.083536</td>\n",
       "      <td>...</td>\n",
       "      <td>0.000628</td>\n",
       "      <td>-0.208676</td>\n",
       "      <td>0.162476</td>\n",
       "      <td>-0.522599</td>\n",
       "      <td>0.523000</td>\n",
       "      <td>0.443704</td>\n",
       "      <td>-0.208589</td>\n",
       "      <td>0.274352</td>\n",
       "      <td>-0.000162</td>\n",
       "      <td>Good</td>\n",
       "    </tr>\n",
       "    <tr>\n",
       "      <th>3</th>\n",
       "      <td>2.574787</td>\n",
       "      <td>0.849139</td>\n",
       "      <td>2.778080</td>\n",
       "      <td>-0.930590</td>\n",
       "      <td>0.416812</td>\n",
       "      <td>0.075047</td>\n",
       "      <td>-1.959641</td>\n",
       "      <td>-1.471360</td>\n",
       "      <td>-0.881654</td>\n",
       "      <td>-0.170982</td>\n",
       "      <td>...</td>\n",
       "      <td>-0.601627</td>\n",
       "      <td>-0.108777</td>\n",
       "      <td>0.359884</td>\n",
       "      <td>0.125593</td>\n",
       "      <td>0.131382</td>\n",
       "      <td>0.215117</td>\n",
       "      <td>0.076574</td>\n",
       "      <td>-0.303114</td>\n",
       "      <td>-0.058066</td>\n",
       "      <td>Good</td>\n",
       "    </tr>\n",
       "    <tr>\n",
       "      <th>4</th>\n",
       "      <td>4.879497</td>\n",
       "      <td>0.914712</td>\n",
       "      <td>1.804707</td>\n",
       "      <td>-0.338086</td>\n",
       "      <td>-0.443130</td>\n",
       "      <td>0.293903</td>\n",
       "      <td>-1.989565</td>\n",
       "      <td>-0.963500</td>\n",
       "      <td>-1.122149</td>\n",
       "      <td>-0.493012</td>\n",
       "      <td>...</td>\n",
       "      <td>-0.627635</td>\n",
       "      <td>-0.161964</td>\n",
       "      <td>0.414704</td>\n",
       "      <td>0.102017</td>\n",
       "      <td>0.252251</td>\n",
       "      <td>0.350766</td>\n",
       "      <td>0.119647</td>\n",
       "      <td>-0.116958</td>\n",
       "      <td>-0.062076</td>\n",
       "      <td>Good</td>\n",
       "    </tr>\n",
       "  </tbody>\n",
       "</table>\n",
       "<p>5 rows × 61 columns</p>\n",
       "</div>"
      ],
      "text/plain": [
       "         V0        V1        V2        V3        V4        V5        V6  \\\n",
       "0 -4.661726  2.073207  2.085037 -1.126915  2.546676  0.667905 -2.151944   \n",
       "1 -4.260259  1.924483  2.774096 -0.657981  2.790679  0.702253 -3.378585   \n",
       "2 -1.625622 -0.682619  2.207514  1.811099 -1.139696 -1.070778 -2.170840   \n",
       "3  2.574787  0.849139  2.778080 -0.930590  0.416812  0.075047 -1.959641   \n",
       "4  4.879497  0.914712  1.804707 -0.338086 -0.443130  0.293903 -1.989565   \n",
       "\n",
       "         V7        V8        V9      ...             V51       V52       V53  \\\n",
       "0 -1.794268 -0.094643 -0.425403      ...        0.608668 -0.379207  0.330209   \n",
       "1 -3.115021 -0.514372 -0.291329      ...        0.370676  0.150893  0.006993   \n",
       "2 -1.462017 -0.590316  0.083536      ...        0.000628 -0.208676  0.162476   \n",
       "3 -1.471360 -0.881654 -0.170982      ...       -0.601627 -0.108777  0.359884   \n",
       "4 -0.963500 -1.122149 -0.493012      ...       -0.627635 -0.161964  0.414704   \n",
       "\n",
       "        V54       V55       V56       V57       V58       V59  Machine_State  \n",
       "0 -0.495572  0.231462  0.205708 -0.142988  0.142021 -0.204101           Good  \n",
       "1 -0.683962  0.087560  0.243643  0.168526 -0.102317 -0.134603           Good  \n",
       "2 -0.522599  0.523000  0.443704 -0.208589  0.274352 -0.000162           Good  \n",
       "3  0.125593  0.131382  0.215117  0.076574 -0.303114 -0.058066           Good  \n",
       "4  0.102017  0.252251  0.350766  0.119647 -0.116958 -0.062076           Good  \n",
       "\n",
       "[5 rows x 61 columns]"
      ]
     },
     "execution_count": 210,
     "metadata": {},
     "output_type": "execute_result"
    }
   ],
   "source": [
    "finalDf = pd.concat([principalDf, Train_imputedSet['Machine_State']], axis = 1)\n",
    "finalDf.head(5)"
   ]
  },
  {
   "cell_type": "code",
   "execution_count": 211,
   "metadata": {},
   "outputs": [
    {
     "name": "stdout",
     "output_type": "stream",
     "text": [
      "(3722, 61)\n",
      "Good    3240\n",
      "Bad      482\n",
      "Name: Machine_State, dtype: int64\n"
     ]
    }
   ],
   "source": [
    "print(finalDf.shape)\n",
    "print(pd.value_counts(finalDf.Machine_State))"
   ]
  },
  {
   "cell_type": "code",
   "execution_count": 212,
   "metadata": {},
   "outputs": [
    {
     "name": "stdout",
     "output_type": "stream",
     "text": [
      "(3722, 60)\n",
      "(3722,)\n",
      "Index(['V0', 'V1', 'V2', 'V3', 'V4', 'V5', 'V6', 'V7', 'V8', 'V9', 'V10',\n",
      "       'V11', 'V12', 'V13', 'V14', 'V15', 'V16', 'V17', 'V18', 'V19', 'V20',\n",
      "       'V21', 'V22', 'V23', 'V24', 'V25', 'V26', 'V27', 'V28', 'V29', 'V30',\n",
      "       'V31', 'V32', 'V33', 'V34', 'V35', 'V36', 'V37', 'V38', 'V39', 'V40',\n",
      "       'V41', 'V42', 'V43', 'V44', 'V45', 'V46', 'V47', 'V48', 'V49', 'V50',\n",
      "       'V51', 'V52', 'V53', 'V54', 'V55', 'V56', 'V57', 'V58', 'V59'],\n",
      "      dtype='object')\n",
      "0    Good\n",
      "1    Good\n",
      "2    Good\n",
      "3    Good\n",
      "4    Good\n",
      "Name: Machine_State, dtype: category\n",
      "Categories (2, object): [Bad, Good]\n"
     ]
    }
   ],
   "source": [
    "train_new = finalDf.iloc[:, 0:60]\n",
    "target = finalDf['Machine_State']\n",
    "print(train_new.shape)\n",
    "print(target.shape)\n",
    "print(train_new.columns)\n",
    "#print(target.columns)\n",
    "print(target.head(5))\n",
    "#print(pd.value_counts(target.Machine_State))"
   ]
  },
  {
   "cell_type": "code",
   "execution_count": 213,
   "metadata": {},
   "outputs": [
    {
     "name": "stdout",
     "output_type": "stream",
     "text": [
      "(964, 60)\n"
     ]
    }
   ],
   "source": [
    "from imblearn.under_sampling import RandomUnderSampler\n",
    "ros = RandomUnderSampler(random_state=42)\n",
    "X_resampled, y_resampled = ros.fit_sample(train_new, target)\n",
    "print(X_resampled.shape)"
   ]
  },
  {
   "cell_type": "code",
   "execution_count": 214,
   "metadata": {},
   "outputs": [
    {
     "name": "stdout",
     "output_type": "stream",
     "text": [
      "(964, 60)\n",
      "(964,)\n"
     ]
    }
   ],
   "source": [
    "print(X_resampled.shape)\n",
    "print(y_resampled.shape)\n"
   ]
  },
  {
   "cell_type": "code",
   "execution_count": 215,
   "metadata": {},
   "outputs": [],
   "source": [
    "from sklearn.model_selection import train_test_split\n",
    "X_train, X_test, y_train, y_test = train_test_split(X_resampled, y_resampled,test_size = 0.2, random_state=42)"
   ]
  },
  {
   "cell_type": "code",
   "execution_count": 216,
   "metadata": {},
   "outputs": [
    {
     "data": {
      "text/plain": [
       "LogisticRegression(C=1.0, class_weight=None, dual=False, fit_intercept=True,\n",
       "          intercept_scaling=1, max_iter=100, multi_class='ovr', n_jobs=1,\n",
       "          penalty='l2', random_state=None, solver='liblinear', tol=0.0001,\n",
       "          verbose=0, warm_start=False)"
      ]
     },
     "execution_count": 216,
     "metadata": {},
     "output_type": "execute_result"
    }
   ],
   "source": [
    "from sklearn.linear_model import LogisticRegression\n",
    "from sklearn import metrics\n",
    "logreg = LogisticRegression()\n",
    "logreg.fit(X_train, y_train)"
   ]
  },
  {
   "cell_type": "code",
   "execution_count": 217,
   "metadata": {},
   "outputs": [
    {
     "name": "stdout",
     "output_type": "stream",
     "text": [
      "Accuracy of logistic regression classifier on test set: 0.76\n"
     ]
    }
   ],
   "source": [
    "y_pred = logreg.predict(X_test)\n",
    "print('Accuracy of logistic regression classifier on test set: {:.2f}'.format(logreg.score(X_test, y_test)))"
   ]
  },
  {
   "cell_type": "code",
   "execution_count": 218,
   "metadata": {},
   "outputs": [
    {
     "name": "stdout",
     "output_type": "stream",
     "text": [
      "Accuracy is 0.76\n"
     ]
    }
   ],
   "source": [
    "pd.crosstab(pd.Series(y_test, name = 'Actual'), pd.Series(y_pred, name = 'Predict'), margins = True)\n",
    "from sklearn.metrics import accuracy_score, precision_score, recall_score, roc_auc_score\n",
    "print(\"Accuracy is {0:.2f}\".format(accuracy_score(y_test, y_pred)))\n",
    "#print(\"Precision is {0:.2f}\".format(precision_score(y_test, y_pred)))\n",
    "#print(\"Recall is {0:.2f}\".format(recall_score(y_test, y_pred)))\n",
    "#print(\"AUC is {0:.2f}\".format(roc_auc_score(y_test, y_pred)))\n",
    "#print(classification_report(y_test, y_pred))"
   ]
  },
  {
   "cell_type": "code",
   "execution_count": 234,
   "metadata": {},
   "outputs": [
    {
     "name": "stdout",
     "output_type": "stream",
     "text": [
      "[[80  6]\n",
      " [40 67]]\n"
     ]
    }
   ],
   "source": [
    "from sklearn.metrics import confusion_matrix\n",
    "confusion_matrix = confusion_matrix(y_test, y_pred)\n",
    "print(confusion_matrix)\n",
    "#The result is telling us that we have 80+69 correct predictions and 38+6 incorrect predictions."
   ]
  },
  {
   "cell_type": "code",
   "execution_count": 232,
   "metadata": {},
   "outputs": [
    {
     "name": "stdout",
     "output_type": "stream",
     "text": [
      "             precision    recall  f1-score   support\n",
      "\n",
      "        Bad       0.67      0.93      0.78        86\n",
      "       Good       0.92      0.63      0.74       107\n",
      "\n",
      "avg / total       0.81      0.76      0.76       193\n",
      "\n"
     ]
    }
   ],
   "source": [
    "from sklearn.metrics import classification_report\n",
    "print(classification_report(y_test, y_pred))"
   ]
  },
  {
   "cell_type": "code",
   "execution_count": 227,
   "metadata": {},
   "outputs": [
    {
     "name": "stdout",
     "output_type": "stream",
     "text": [
      "Accuracy is 0.59\n"
     ]
    }
   ],
   "source": [
    "from sklearn.naive_bayes import GaussianNB, BernoulliNB\n",
    "model = GaussianNB()\n",
    "naive = model.fit(X_train, y_train)\n",
    "naive_preds = naive.predict(X_test)\n",
    "print(\"Accuracy is {0:.2f}\".format(accuracy_score(y_test, naive_preds)))"
   ]
  },
  {
   "cell_type": "code",
   "execution_count": 239,
   "metadata": {},
   "outputs": [
    {
     "name": "stdout",
     "output_type": "stream",
     "text": [
      "[[75 11]\n",
      " [69 38]]\n",
      "classification_report for Naive Bayes Model : \n",
      "             precision    recall  f1-score   support\n",
      "\n",
      "        Bad       0.52      0.87      0.65        86\n",
      "       Good       0.78      0.36      0.49       107\n",
      "\n",
      "avg / total       0.66      0.59      0.56       193\n",
      "\n"
     ]
    }
   ],
   "source": [
    "\n",
    "confusion_matrix_n = confusion_matrix(y_test, naive_preds)\n",
    "print(confusion_matrix_n)\n",
    "#print(\"confusion Matrix for Naive Bayes Model : \" ,confusion_matrix_naive)\n",
    "print(\"classification_report for Naive Bayes Model : \")\n",
    "print(classification_report(y_test, naive_preds))"
   ]
  },
  {
   "cell_type": "code",
   "execution_count": null,
   "metadata": {},
   "outputs": [],
   "source": []
  }
 ],
 "metadata": {
  "kernelspec": {
   "display_name": "Python 3",
   "language": "python",
   "name": "python3"
  },
  "language_info": {
   "codemirror_mode": {
    "name": "ipython",
    "version": 3
   },
   "file_extension": ".py",
   "mimetype": "text/x-python",
   "name": "python",
   "nbconvert_exporter": "python",
   "pygments_lexer": "ipython3",
   "version": "3.6.4"
  }
 },
 "nbformat": 4,
 "nbformat_minor": 2
}
