{
 "cells": [
  {
   "cell_type": "code",
   "execution_count": 46,
   "metadata": {},
   "outputs": [],
   "source": [
    "import pandas as pd\n",
    "import numpy as np\n",
    "\n",
    "#for plotting\n",
    "import seaborn as sns \n",
    "import matplotlib.pyplot as plt"
   ]
  },
  {
   "cell_type": "code",
   "execution_count": 47,
   "metadata": {},
   "outputs": [],
   "source": [
    "from sklearn.decomposition import PCA #Dimensionality reduction\n",
    "from sklearn import preprocessing # for standardizing numerical variables"
   ]
  },
  {
   "cell_type": "code",
   "execution_count": 48,
   "metadata": {},
   "outputs": [],
   "source": [
    "#importing Train & Test data\n",
    "Train_data = pd.read_csv(\"TrainingSet.csv\") \n",
    "Test_data = pd.read_csv(\"TestingSet.csv\")"
   ]
  },
  {
   "cell_type": "code",
   "execution_count": 49,
   "metadata": {},
   "outputs": [
    {
     "name": "stdout",
     "output_type": "stream",
     "text": [
      "Train dim  (3722, 220)\n",
      "Test dim  (400, 220)\n"
     ]
    }
   ],
   "source": [
    "#Checking dimensions of Train & Test\n",
    "print(\"Train dim \" , Train_data.shape)\n",
    "print(\"Test dim \" , Test_data.shape)"
   ]
  },
  {
   "cell_type": "code",
   "execution_count": 50,
   "metadata": {},
   "outputs": [
    {
     "name": "stdout",
     "output_type": "stream",
     "text": [
      "Train datatypes  V1               float64\n",
      "V2               float64\n",
      "V3               float64\n",
      "V4               float64\n",
      "V5               float64\n",
      "V6               float64\n",
      "V7               float64\n",
      "V8               float64\n",
      "V9               float64\n",
      "V10              float64\n",
      "V11              float64\n",
      "V12              float64\n",
      "V13              float64\n",
      "V14              float64\n",
      "V15              float64\n",
      "V16              float64\n",
      "V17              float64\n",
      "V18              float64\n",
      "V19              float64\n",
      "V20              float64\n",
      "V21              float64\n",
      "V22              float64\n",
      "V23              float64\n",
      "V24              float64\n",
      "V25              float64\n",
      "V26              float64\n",
      "V27              float64\n",
      "V28              float64\n",
      "V29              float64\n",
      "V30              float64\n",
      "                  ...   \n",
      "V191             float64\n",
      "V192             float64\n",
      "V193             float64\n",
      "V194             float64\n",
      "V195             float64\n",
      "V196             float64\n",
      "V197             float64\n",
      "V198             float64\n",
      "V199             float64\n",
      "V200             float64\n",
      "V201             float64\n",
      "V202             float64\n",
      "V203             float64\n",
      "V204             float64\n",
      "V205             float64\n",
      "V206             float64\n",
      "V207             float64\n",
      "V208             float64\n",
      "V209             float64\n",
      "V210             float64\n",
      "V211             float64\n",
      "V212             float64\n",
      "V213             float64\n",
      "V214             float64\n",
      "V215             float64\n",
      "V216             float64\n",
      "V217             float64\n",
      "V218             float64\n",
      "V219             float64\n",
      "Machine_State     object\n",
      "Length: 220, dtype: object\n",
      "Test datatypes  Sl No.      int64\n",
      "V1        float64\n",
      "V2        float64\n",
      "V3        float64\n",
      "V4        float64\n",
      "V5        float64\n",
      "V6        float64\n",
      "V7        float64\n",
      "V8        float64\n",
      "V9        float64\n",
      "V10       float64\n",
      "V11       float64\n",
      "V12       float64\n",
      "V13       float64\n",
      "V14       float64\n",
      "V15       float64\n",
      "V16       float64\n",
      "V17       float64\n",
      "V18       float64\n",
      "V19       float64\n",
      "V20       float64\n",
      "V21       float64\n",
      "V22       float64\n",
      "V23       float64\n",
      "V24       float64\n",
      "V25       float64\n",
      "V26       float64\n",
      "V27       float64\n",
      "V28       float64\n",
      "V29       float64\n",
      "           ...   \n",
      "V190      float64\n",
      "V191      float64\n",
      "V192      float64\n",
      "V193      float64\n",
      "V194      float64\n",
      "V195      float64\n",
      "V196      float64\n",
      "V197      float64\n",
      "V198      float64\n",
      "V199        int64\n",
      "V200      float64\n",
      "V201      float64\n",
      "V202      float64\n",
      "V203      float64\n",
      "V204      float64\n",
      "V205      float64\n",
      "V206      float64\n",
      "V207      float64\n",
      "V208      float64\n",
      "V209      float64\n",
      "V210      float64\n",
      "V211      float64\n",
      "V212      float64\n",
      "V213      float64\n",
      "V214      float64\n",
      "V215      float64\n",
      "V216      float64\n",
      "V217      float64\n",
      "V218      float64\n",
      "V219      float64\n",
      "Length: 220, dtype: object\n"
     ]
    }
   ],
   "source": [
    "print(\"Train datatypes \" , Train_data.dtypes)\n",
    "print(\"Test datatypes \" , Test_data.dtypes)"
   ]
  },
  {
   "cell_type": "code",
   "execution_count": 51,
   "metadata": {},
   "outputs": [],
   "source": [
    "#Converting Target Variable datatype to factor\n",
    "Train_data.Machine_State = Train_data.Machine_State.astype('category')"
   ]
  },
  {
   "cell_type": "code",
   "execution_count": 52,
   "metadata": {},
   "outputs": [
    {
     "name": "stdout",
     "output_type": "stream",
     "text": [
      "Good    3240\n",
      "Bad      463\n",
      "Name: Machine_State, dtype: int64\n"
     ]
    }
   ],
   "source": [
    "#Checking whether Response variable data distribution is balanced or not\n",
    "print(pd.value_counts(Train_data['Machine_State']))"
   ]
  },
  {
   "cell_type": "code",
   "execution_count": 53,
   "metadata": {},
   "outputs": [
    {
     "data": {
      "image/png": "[encoded data removed]",
      "text/plain": [
       "<matplotlib.figure.Figure at 0x20d21bbbef0>"
      ]
     },
     "metadata": {},
     "output_type": "display_data"
    },
    {
     "data": {
      "text/plain": [
       "<matplotlib.figure.Figure at 0x20d201e4a20>"
      ]
     },
     "metadata": {},
     "output_type": "display_data"
    }
   ],
   "source": [
    "#Plotting Trget variable data distribution for visualization\n",
    "sns.countplot(x='Machine_State', data =Train_data,palette= 'hls')\n",
    "plt.show()\n",
    "plt.savefig('count_plot')"
   ]
  },
  {
   "cell_type": "code",
   "execution_count": 54,
   "metadata": {},
   "outputs": [
    {
     "data": {
      "text/plain": [
       "V1               56\n",
       "V8               56\n",
       "V15              56\n",
       "V22              56\n",
       "V29              56\n",
       "V36              56\n",
       "V43              56\n",
       "V50              56\n",
       "V57              56\n",
       "V64              56\n",
       "V71              56\n",
       "V78              56\n",
       "V85              56\n",
       "V92              56\n",
       "V99              56\n",
       "V106             56\n",
       "V113             56\n",
       "V120             56\n",
       "V127             56\n",
       "V134             56\n",
       "V141             56\n",
       "V148             56\n",
       "V155             56\n",
       "V162             56\n",
       "V169             56\n",
       "V176             56\n",
       "V183             56\n",
       "V190             56\n",
       "V197             56\n",
       "V205             56\n",
       "V213             56\n",
       "Machine_State    19\n",
       "dtype: int64"
      ]
     },
     "execution_count": 54,
     "metadata": {},
     "output_type": "execute_result"
    }
   ],
   "source": [
    "# Sum of Null values per column on training data set\n",
    "null_columns=Train_data.columns[Train_data.isnull().any()]\n",
    "Train_data[null_columns].isnull().sum()"
   ]
  },
  {
   "cell_type": "code",
   "execution_count": 55,
   "metadata": {},
   "outputs": [
    {
     "data": {
      "text/plain": [
       "V1      5\n",
       "V8      5\n",
       "V15     5\n",
       "V22     5\n",
       "V29     5\n",
       "V36     5\n",
       "V43     5\n",
       "V50     5\n",
       "V57     5\n",
       "V64     5\n",
       "V71     5\n",
       "V78     5\n",
       "V85     5\n",
       "V92     5\n",
       "V99     5\n",
       "V106    5\n",
       "V113    5\n",
       "V120    5\n",
       "V127    5\n",
       "V134    5\n",
       "V141    5\n",
       "V148    5\n",
       "V155    5\n",
       "V162    5\n",
       "V169    5\n",
       "V176    5\n",
       "V183    5\n",
       "V190    5\n",
       "V197    5\n",
       "V205    5\n",
       "V213    5\n",
       "dtype: int64"
      ]
     },
     "execution_count": 55,
     "metadata": {},
     "output_type": "execute_result"
    }
   ],
   "source": [
    "## Sum of Null values per column on test data set\n",
    "null_columns=Test_data.columns[Test_data.isnull().any()]\n",
    "Test_data[null_columns].isnull().sum()"
   ]
  },
  {
   "cell_type": "code",
   "execution_count": 56,
   "metadata": {},
   "outputs": [],
   "source": [
    "#imputing Na with it's column mean\n",
    "Train_imputedSet=  Train_data.fillna(Train_data.mean())\n",
    "Test_imputedSet=  Test_data.fillna(Test_data.mean())"
   ]
  },
  {
   "cell_type": "code",
   "execution_count": 57,
   "metadata": {},
   "outputs": [
    {
     "data": {
      "text/plain": [
       "Machine_State    19\n",
       "dtype: int64"
      ]
     },
     "execution_count": 57,
     "metadata": {},
     "output_type": "execute_result"
    }
   ],
   "source": [
    "## Verifying if any null value exists for Train data\n",
    "null_columns=Train_imputedSet.columns[Train_imputedSet.isnull().any()]\n",
    "Train_imputedSet[null_columns].isnull().sum()"
   ]
  },
  {
   "cell_type": "code",
   "execution_count": 58,
   "metadata": {},
   "outputs": [
    {
     "data": {
      "text/plain": [
       "Series([], dtype: float64)"
      ]
     },
     "execution_count": 58,
     "metadata": {},
     "output_type": "execute_result"
    }
   ],
   "source": [
    "## Verifying if any null value exists for Test data\n",
    "null_columns=Test_imputedSet.columns[Test_imputedSet.isnull().any()]\n",
    "Test_imputedSet[null_columns].isnull().sum()"
   ]
  },
  {
   "cell_type": "code",
   "execution_count": 59,
   "metadata": {},
   "outputs": [
    {
     "name": "stdout",
     "output_type": "stream",
     "text": [
      "(400, 220)\n",
      "Index(['Sl No.', 'V1', 'V2', 'V3', 'V4', 'V5', 'V6', 'V7', 'V8', 'V9',\n",
      "       ...\n",
      "       'V210', 'V211', 'V212', 'V213', 'V214', 'V215', 'V216', 'V217', 'V218',\n",
      "       'V219'],\n",
      "      dtype='object', length=220)\n"
     ]
    }
   ],
   "source": [
    "#Checking Test data dimension and column names\n",
    "print(Test_imputedSet.shape)\n",
    "print(Test_imputedSet.columns)"
   ]
  },
  {
   "cell_type": "code",
   "execution_count": 60,
   "metadata": {},
   "outputs": [
    {
     "name": "stdout",
     "output_type": "stream",
     "text": [
      "(400, 219)\n"
     ]
    }
   ],
   "source": [
    "#Remove the irrelevant column from Testdataset\n",
    "X_test = Test_imputedSet.loc[:,Test_imputedSet.columns != 'Sl No.']\n",
    "print(X_test.shape)\n"
   ]
  },
  {
   "cell_type": "code",
   "execution_count": 90,
   "metadata": {},
   "outputs": [
    {
     "data": {
      "text/plain": [
       "0    1\n",
       "1    2\n",
       "2    3\n",
       "3    4\n",
       "4    5\n",
       "Name: Sl No., dtype: int64"
      ]
     },
     "execution_count": 90,
     "metadata": {},
     "output_type": "execute_result"
    }
   ],
   "source": [
    "# To cocat with Submission file\n",
    "SerialNum = Test_imputedSet[\"Sl No.\"]\n",
    "SerialNum.head()"
   ]
  },
  {
   "cell_type": "code",
   "execution_count": 61,
   "metadata": {},
   "outputs": [],
   "source": [
    "#Replace null values with 'Bad' as it is important and less too\n",
    "Train_imputedSet['Machine_State'].fillna('Bad', inplace=True)"
   ]
  },
  {
   "cell_type": "code",
   "execution_count": 15,
   "metadata": {},
   "outputs": [],
   "source": [
    "#Write the data to csv\n",
    "Train_imputedSet.to_csv(\"Imputed_DataSet.csv\", index=False)"
   ]
  },
  {
   "cell_type": "code",
   "execution_count": 62,
   "metadata": {},
   "outputs": [
    {
     "name": "stdout",
     "output_type": "stream",
     "text": [
      "(3722, 220)\n"
     ]
    }
   ],
   "source": [
    "print(Train_imputedSet.shape)"
   ]
  },
  {
   "cell_type": "code",
   "execution_count": 63,
   "metadata": {},
   "outputs": [
    {
     "name": "stdout",
     "output_type": "stream",
     "text": [
      "Index(['V1', 'V2', 'V3', 'V4', 'V5', 'V6', 'V7', 'V8', 'V9', 'V10',\n",
      "       ...\n",
      "       'V210', 'V211', 'V212', 'V213', 'V214', 'V215', 'V216', 'V217', 'V218',\n",
      "       'V219'],\n",
      "      dtype='object', length=219)\n",
      "(3722, 219)\n",
      "(3722, 1)\n"
     ]
    }
   ],
   "source": [
    "# Separating target variable from dataset\n",
    "X = Train_imputedSet.loc[:,Train_imputedSet.columns != 'Machine_State']\n",
    "Y = Train_imputedSet.loc[:,Train_imputedSet.columns == 'Machine_State']\n",
    "print(X.columns)  \n",
    "print(X.shape)  \n",
    "print(Y.shape)  "
   ]
  },
  {
   "cell_type": "code",
   "execution_count": 64,
   "metadata": {},
   "outputs": [
    {
     "name": "stdout",
     "output_type": "stream",
     "text": [
      "(964, 219)\n"
     ]
    },
    {
     "name": "stderr",
     "output_type": "stream",
     "text": [
      "C:\\Users\\farha\\Anaconda3\\lib\\site-packages\\sklearn\\utils\\validation.py:578: DataConversionWarning: A column-vector y was passed when a 1d array was expected. Please change the shape of y to (n_samples, ), for example using ravel().\n",
      "  y = column_or_1d(y, warn=True)\n"
     ]
    }
   ],
   "source": [
    "#Undersampling the data to balance\n",
    "from imblearn.under_sampling import RandomUnderSampler\n",
    "ros = RandomUnderSampler(random_state=42)\n",
    "X_resampled, y_resampled = ros.fit_sample(X,Y)\n",
    "print(X_resampled.shape)"
   ]
  },
  {
   "cell_type": "code",
   "execution_count": 65,
   "metadata": {},
   "outputs": [],
   "source": [
    "# Splitting the dataset into the Training set and Test set\n",
    "from sklearn.model_selection import train_test_split\n",
    "X_train, X_validation, y_train, y_validation = train_test_split(X_resampled, y_resampled, test_size=0.2, random_state=0)  "
   ]
  },
  {
   "cell_type": "code",
   "execution_count": 66,
   "metadata": {},
   "outputs": [
    {
     "name": "stdout",
     "output_type": "stream",
     "text": [
      "(400, 219)\n",
      "(771, 219)\n",
      "(193, 219)\n"
     ]
    }
   ],
   "source": [
    "#Checking dimensions\n",
    "print(X_test.shape)\n",
    "print(X_train.shape)\n",
    "print(X_validation.shape)"
   ]
  },
  {
   "cell_type": "code",
   "execution_count": 67,
   "metadata": {},
   "outputs": [],
   "source": [
    "#standardizing numerical variables\n",
    "from sklearn.preprocessing import StandardScaler\n",
    "\n",
    "sc = StandardScaler()  \n",
    "X_train = sc.fit_transform(X_train)  \n",
    "X_validation = sc.transform(X_validation) \n",
    "X_test = sc.transform(X_test) "
   ]
  },
  {
   "cell_type": "code",
   "execution_count": 68,
   "metadata": {},
   "outputs": [],
   "source": [
    "#Performing dimensionality reduction as the dataset has high dimensions\n",
    "from sklearn.decomposition import PCA\n",
    "\n",
    "pca = PCA()  \n",
    "X_train = pca.fit_transform(X_train)  \n",
    "X_validation = pca.transform(X_validation)\n",
    "X_test = pca.transform(X_test) "
   ]
  },
  {
   "cell_type": "code",
   "execution_count": 69,
   "metadata": {},
   "outputs": [
    {
     "name": "stdout",
     "output_type": "stream",
     "text": [
      "0      2.545016e-01\n",
      "1      1.056503e-01\n",
      "2      7.563481e-02\n",
      "3      6.284425e-02\n",
      "4      5.589796e-02\n",
      "5      4.998348e-02\n",
      "6      4.595203e-02\n",
      "7      3.746653e-02\n",
      "8      2.976618e-02\n",
      "9      2.357683e-02\n",
      "10     2.149316e-02\n",
      "11     1.901619e-02\n",
      "12     1.721890e-02\n",
      "13     1.553672e-02\n",
      "14     1.383625e-02\n",
      "15     1.324367e-02\n",
      "16     1.217730e-02\n",
      "17     1.100602e-02\n",
      "18     1.007400e-02\n",
      "19     9.744250e-03\n",
      "20     8.766823e-03\n",
      "21     8.042777e-03\n",
      "22     7.674606e-03\n",
      "23     7.436612e-03\n",
      "24     6.849594e-03\n",
      "25     6.270061e-03\n",
      "26     5.712932e-03\n",
      "27     4.767348e-03\n",
      "28     4.496612e-03\n",
      "29     3.732715e-03\n",
      "           ...     \n",
      "189    1.424671e-33\n",
      "190    1.333170e-33\n",
      "191    1.333170e-33\n",
      "192    1.333170e-33\n",
      "193    1.333170e-33\n",
      "194    1.333170e-33\n",
      "195    1.333170e-33\n",
      "196    1.333170e-33\n",
      "197    1.333170e-33\n",
      "198    1.333170e-33\n",
      "199    1.333170e-33\n",
      "200    1.333170e-33\n",
      "201    1.333170e-33\n",
      "202    1.333170e-33\n",
      "203    1.333170e-33\n",
      "204    1.333170e-33\n",
      "205    1.333170e-33\n",
      "206    1.333170e-33\n",
      "207    1.333170e-33\n",
      "208    1.333170e-33\n",
      "209    1.333170e-33\n",
      "210    1.333170e-33\n",
      "211    1.333170e-33\n",
      "212    1.333170e-33\n",
      "213    1.333170e-33\n",
      "214    1.333170e-33\n",
      "215    1.333170e-33\n",
      "216    1.333170e-33\n",
      "217    1.204408e-33\n",
      "218    1.204823e-34\n",
      "Length: 219, dtype: float64\n"
     ]
    }
   ],
   "source": [
    "var_explained = pca.explained_variance_ratio_ #ratio of variance each PC explains\n",
    "print(pd.Series(var_explained))\n"
   ]
  },
  {
   "cell_type": "code",
   "execution_count": 70,
   "metadata": {},
   "outputs": [
    {
     "name": "stdout",
     "output_type": "stream",
     "text": [
      "0.9942849464127331\n"
     ]
    }
   ],
   "source": [
    "print(sum(var_explained[0:60]))\n",
    "##indeed,the first 60 PCs explain 99% of the variance"
   ]
  },
  {
   "cell_type": "code",
   "execution_count": 80,
   "metadata": {},
   "outputs": [
    {
     "name": "stdout",
     "output_type": "stream",
     "text": [
      "[25.45 36.02 43.58 49.86 55.45 60.45 65.05 68.8  71.78 74.14 76.29 78.19\n",
      " 79.91 81.46 82.84 84.16 85.38 86.48 87.49 88.46 89.34 90.14 90.91 91.65\n",
      " 92.33 92.96 93.53 94.01 94.46 94.83 95.19 95.53 95.86 96.16 96.43 96.69\n",
      " 96.93 97.16 97.37 97.55 97.73 97.89 98.04 98.18 98.3  98.41 98.52 98.62\n",
      " 98.71 98.8  98.88 98.96 99.03 99.1  99.16 99.22 99.28 99.34 99.39 99.43]\n"
     ]
    }
   ],
   "source": [
    "#The amount of variance that each PC explains\n",
    "var= pca.explained_variance_ratio_\n",
    "\n",
    "#Cumulative Variance explains\n",
    "var1=np.cumsum(np.round(pca.explained_variance_ratio_, decimals=4)*100)\n",
    "print(var1)\n"
   ]
  },
  {
   "cell_type": "code",
   "execution_count": 81,
   "metadata": {},
   "outputs": [
    {
     "data": {
      "text/plain": [
       "[<matplotlib.lines.Line2D at 0x20d21d25a58>]"
      ]
     },
     "execution_count": 81,
     "metadata": {},
     "output_type": "execute_result"
    },
    {
     "data": {
      "image/png": "[encoded data removed]",
      "text/plain": [
       "<matplotlib.figure.Figure at 0x20d1f79c550>"
      ]
     },
     "metadata": {},
     "output_type": "display_data"
    }
   ],
   "source": [
    "#Plotting to visualize\n",
    "import matplotlib.pyplot as plt\n",
    "%matplotlib inline\n",
    "plt.plot(var1)"
   ]
  },
  {
   "cell_type": "code",
   "execution_count": 72,
   "metadata": {},
   "outputs": [],
   "source": [
    "from sklearn.decomposition import PCA\n",
    "\n",
    "pca = PCA(n_components=60)   #only include first 60 components as it explains maximum variance\n",
    "X_train = pca.fit_transform(X_train)  \n",
    "X_validation = pca.transform(X_validation)  \n",
    "X_test = pca.transform(X_test) "
   ]
  },
  {
   "cell_type": "code",
   "execution_count": 73,
   "metadata": {},
   "outputs": [
    {
     "name": "stdout",
     "output_type": "stream",
     "text": [
      "(771, 60)\n",
      "(193, 60)\n",
      "(400, 60)\n"
     ]
    }
   ],
   "source": [
    "print(X_train.shape)\n",
    "print(X_validation.shape)\n",
    "print(X_test.shape)"
   ]
  },
  {
   "cell_type": "code",
   "execution_count": 74,
   "metadata": {},
   "outputs": [
    {
     "data": {
      "text/plain": [
       "LogisticRegression(C=1.0, class_weight=None, dual=False, fit_intercept=True,\n",
       "          intercept_scaling=1, max_iter=100, multi_class='ovr', n_jobs=1,\n",
       "          penalty='l2', random_state=None, solver='liblinear', tol=0.0001,\n",
       "          verbose=0, warm_start=False)"
      ]
     },
     "execution_count": 74,
     "metadata": {},
     "output_type": "execute_result"
    }
   ],
   "source": [
    "#Training model using Logistic Regression\n",
    "\n",
    "from sklearn.linear_model import LogisticRegression\n",
    "from sklearn import metrics\n",
    "logreg = LogisticRegression()\n",
    "logreg.fit(X_train, y_train)"
   ]
  },
  {
   "cell_type": "code",
   "execution_count": 75,
   "metadata": {},
   "outputs": [
    {
     "name": "stdout",
     "output_type": "stream",
     "text": [
      "Accuracy of logistic regression classifier on test set: 0.81\n"
     ]
    }
   ],
   "source": [
    "#Prediction on Validation data\n",
    "y_pred = logreg.predict(X_validation)\n",
    "\n",
    "print('Accuracy of logistic regression classifier on test set: {:.2f}'.format(logreg.score(X_validation, y_validation)))\n",
    "#print(\"Accuracy is {0:.2f}\".format(accuracy_score(y_validation, y_pred)))"
   ]
  },
  {
   "cell_type": "code",
   "execution_count": 77,
   "metadata": {},
   "outputs": [
    {
     "name": "stdout",
     "output_type": "stream",
     "text": [
      "[[77 14]\n",
      " [23 79]]\n"
     ]
    }
   ],
   "source": [
    "#Confusion matrix\n",
    "\n",
    "from sklearn.metrics import confusion_matrix\n",
    "confusion_matrix = confusion_matrix(y_validation, y_pred)\n",
    "print(confusion_matrix)\n",
    "#The result is telling us that we have 77+79 correct predictions and 23+14 incorrect predictions."
   ]
  },
  {
   "cell_type": "code",
   "execution_count": 78,
   "metadata": {},
   "outputs": [
    {
     "name": "stdout",
     "output_type": "stream",
     "text": [
      "             precision    recall  f1-score   support\n",
      "\n",
      "        Bad       0.77      0.85      0.81        91\n",
      "       Good       0.85      0.77      0.81       102\n",
      "\n",
      "avg / total       0.81      0.81      0.81       193\n",
      "\n"
     ]
    }
   ],
   "source": [
    "#Classficattion report on Validaton dataset\n",
    "\n",
    "from sklearn.metrics import classification_report\n",
    "print(classification_report(y_validation, y_pred))"
   ]
  },
  {
   "cell_type": "code",
   "execution_count": 79,
   "metadata": {},
   "outputs": [
    {
     "name": "stdout",
     "output_type": "stream",
     "text": [
      "Good    267\n",
      "Bad     133\n",
      "Name: Machine_State, dtype: int64\n"
     ]
    }
   ],
   "source": [
    "#test predictions\n",
    "\n",
    "test_logistic_pred = logreg.predict(X_test)\n",
    "pred_test_logistic = pd.DataFrame(test_logistic_pred, columns=['Machine_State'])\n",
    "print(pd.value_counts(pred_test_logistic['Machine_State']))\n",
    "\n",
    "#submission = pd.concat([SerialNum, pred_test_logistic], axis=1)"
   ]
  },
  {
   "cell_type": "code",
   "execution_count": 82,
   "metadata": {},
   "outputs": [
    {
     "name": "stdout",
     "output_type": "stream",
     "text": [
      "Accuracy is 0.66\n"
     ]
    }
   ],
   "source": [
    "from sklearn.naive_bayes import GaussianNB, BernoulliNB\n",
    "model = GaussianNB()\n",
    "naive = model.fit(X_train, y_train)\n",
    "naive_preds = naive.predict(X_validation)\n",
    "print(\"Accuracy is {0:.2f}\".format(accuracy_score(y_validation, naive_preds)))"
   ]
  },
  {
   "cell_type": "code",
   "execution_count": 88,
   "metadata": {},
   "outputs": [
    {
     "name": "stdout",
     "output_type": "stream",
     "text": [
      "[[78 13]\n",
      " [53 49]]\n"
     ]
    }
   ],
   "source": [
    "from sklearn.metrics import confusion_matrix\n",
    "confusion_matrix_n= confusion_matrix(y_validation, naive_preds)\n",
    "print(confusion_matrix_n)\n",
    "#print(\"confusion Matrix for Naive Bayes Model : \" ,confusion_matrix_naive)"
   ]
  },
  {
   "cell_type": "code",
   "execution_count": 84,
   "metadata": {},
   "outputs": [
    {
     "name": "stdout",
     "output_type": "stream",
     "text": [
      "classification_report for Naive Bayes Model : \n",
      "             precision    recall  f1-score   support\n",
      "\n",
      "        Bad       0.60      0.86      0.70        91\n",
      "       Good       0.79      0.48      0.60       102\n",
      "\n",
      "avg / total       0.70      0.66      0.65       193\n",
      "\n"
     ]
    }
   ],
   "source": [
    "print(\"classification_report for Naive Bayes Model : \")\n",
    "print(classification_report(y_validation, naive_preds))"
   ]
  },
  {
   "cell_type": "code",
   "execution_count": 89,
   "metadata": {},
   "outputs": [
    {
     "name": "stdout",
     "output_type": "stream",
     "text": [
      "Bad     224\n",
      "Good    176\n",
      "Name: Machine_State, dtype: int64\n"
     ]
    }
   ],
   "source": [
    "#test predictions\n",
    "\n",
    "test_naive_pred = naive.predict(X_test)\n",
    "pred_test_naive = pd.DataFrame(test_naive_pred, columns=['Machine_State'])\n",
    "print(pd.value_counts(pred_test_naive['Machine_State']))"
   ]
  },
  {
   "cell_type": "code",
   "execution_count": 91,
   "metadata": {},
   "outputs": [],
   "source": [
    "#RandomForest\n",
    "\n",
    "from sklearn.ensemble import RandomForestClassifier\n",
    "rf = RandomForestClassifier(n_estimators=100, criterion='gini', min_samples_split=2)\n",
    "rf_model = rf.fit(X_train, y_train)\n",
    "rf_pred = rf_model.predict(X_validation)"
   ]
  },
  {
   "cell_type": "code",
   "execution_count": 96,
   "metadata": {},
   "outputs": [
    {
     "name": "stdout",
     "output_type": "stream",
     "text": [
      "Accuracy is 0.82\n",
      "             precision    recall  f1-score   support\n",
      "\n",
      "        Bad       0.82      0.80      0.81        91\n",
      "       Good       0.83      0.84      0.83       102\n",
      "\n",
      "avg / total       0.82      0.82      0.82       193\n",
      "\n"
     ]
    }
   ],
   "source": [
    "from sklearn.metrics import accuracy_score, precision_score, recall_score, roc_auc_score\n",
    "print(\"Accuracy is {0:.2f}\".format(accuracy_score(y_validation, rf_pred)))\n",
    "print(classification_report(y_validation, rf_pred))"
   ]
  },
  {
   "cell_type": "code",
   "execution_count": 95,
   "metadata": {},
   "outputs": [
    {
     "name": "stdout",
     "output_type": "stream",
     "text": [
      "Good    294\n",
      "Bad     106\n",
      "Name: Machine_State, dtype: int64\n"
     ]
    }
   ],
   "source": [
    "#test predictions\n",
    "\n",
    "test_rf_pred = rf.predict(X_test)\n",
    "pred_test_rf = pd.DataFrame(test_rf_pred, columns=['Machine_State'])\n",
    "print(pd.value_counts(pred_test_rf['Machine_State']))"
   ]
  },
  {
   "cell_type": "code",
   "execution_count": null,
   "metadata": {},
   "outputs": [],
   "source": []
  }
 ],
 "metadata": {
  "kernelspec": {
   "display_name": "Python 3",
   "language": "python",
   "name": "python3"
  },
  "language_info": {
   "codemirror_mode": {
    "name": "ipython",
    "version": 3
   },
   "file_extension": ".py",
   "mimetype": "text/x-python",
   "name": "python",
   "nbconvert_exporter": "python",
   "pygments_lexer": "ipython3",
   "version": "3.6.4"
  }
 },
 "nbformat": 4,
 "nbformat_minor": 2
}
